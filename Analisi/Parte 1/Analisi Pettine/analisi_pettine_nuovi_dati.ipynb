{
 "cells": [
  {
   "cell_type": "markdown",
   "id": "0",
   "metadata": {},
   "source": [
    "# Boring setup"
   ]
  },
  {
   "cell_type": "code",
   "execution_count": null,
   "id": "1",
   "metadata": {},
   "outputs": [],
   "source": [
    "import numpy as np\n",
    "import pandas as pd\n",
    "import matplotlib.pyplot as plt\n",
    "import scipy.stats as stats\n",
    "\n",
    "# Cambiare directory per spostarsi nella cartella principale\n",
    "import os\n",
    "while not os.getcwd().endswith('Laboratorio_SiPM'):\n",
    "    os.chdir('..')\n",
    "\n",
    "import sys\n",
    "sys.path.append('Config')\n",
    "from lablib import *"
   ]
  },
  {
   "cell_type": "markdown",
   "id": "2",
   "metadata": {},
   "source": [
    "## Funzioni utili"
   ]
  },
  {
   "cell_type": "code",
   "execution_count": null,
   "id": "3",
   "metadata": {},
   "outputs": [],
   "source": [
    "def calculate_distances(vals: list[float], ers: list[float]) -> tuple[list[float], list[float]]:\n",
    "    distances = []\n",
    "    errors = []\n",
    "    for i in range(len(vals)-1):\n",
    "        distances.append(vals[i+1] - vals[i])\n",
    "\n",
    "        # per calcolare l'errore della distanza, sommiamo gli errori in quadratura\n",
    "        # che in questo caso corrisponde alla formula generale di propagazione degli errori\n",
    "        errors.append(np.sqrt(ers[i]**2 + ers[i+1]**2))\n",
    "\n",
    "    return distances, errors\n",
    "\n",
    "def media_pesata(vals: list[float], ers: list[float]) -> tuple[float, float]:\n",
    "    \"\"\"\n",
    "    Calcola la media pesata di una lista di valori con i rispettivi errori.\n",
    "    Ritorna anche l'errore sulla media.\n",
    "    \"\"\"\n",
    "    if len(vals) != len(ers):\n",
    "        raise ValueError(\"Le liste dei valori e degli errori devono avere la stessa lunghezza.\")\n",
    "    \n",
    "    weights = [1/(e**2) for e in ers]\n",
    "    weighted_sum = sum(v * w for v, w in zip(vals, weights))\n",
    "    total_weight = sum(weights)\n",
    "    \n",
    "    media = weighted_sum / total_weight if total_weight != 0 else 0.0\n",
    "    errore = np.sqrt(1/total_weight) if total_weight != 0 else 0.0\n",
    "    return media, errore"
   ]
  },
  {
   "cell_type": "markdown",
   "id": "4",
   "metadata": {},
   "source": [
    "## Gaussiane varie"
   ]
  },
  {
   "cell_type": "code",
   "execution_count": null,
   "id": "5",
   "metadata": {},
   "outputs": [],
   "source": [
    "def gauss(x, mu, sigma, scale):\n",
    "    return scale * np.exp(-0.5 * ((x - mu) / sigma) ** 2)\n",
    "\n",
    "def seven_gauss_bkg(x, mu1, sigma1, scale1,\n",
    "                    mu2, sigma2, scale2,\n",
    "                    mu3, sigma3, scale3,\n",
    "                    mu4, sigma4, scale4,\n",
    "                    mu5, sigma5, scale5,\n",
    "                    mu6, sigma6, scale6,\n",
    "                    mu7, sigma7, scale7,\n",
    "                    mu_bkg, sigma_bkg, scale_bkg):\n",
    "    return (gauss(x, mu1, sigma1, scale1) +\n",
    "            gauss(x, mu2, sigma2, scale2) +\n",
    "            gauss(x, mu3, sigma3, scale3) +\n",
    "            gauss(x, mu4, sigma4, scale4) +\n",
    "            gauss(x, mu5, sigma5, scale5) +\n",
    "            gauss(x, mu6, sigma6, scale6) +\n",
    "            gauss(x, mu7, sigma7, scale7) +\n",
    "            gauss(x, mu_bkg, sigma_bkg, scale_bkg))\n",
    "\n",
    "def eight_gauss_bkg(x, mu1, sigma1, scale1,\n",
    "                    mu2, sigma2, scale2,\n",
    "                    mu3, sigma3, scale3,\n",
    "                    mu4, sigma4, scale4,\n",
    "                    mu5, sigma5, scale5,\n",
    "                    mu6, sigma6, scale6,\n",
    "                    mu7, sigma7, scale7,\n",
    "                    mu8, sigma8, scale8,\n",
    "                    mu_bkg, sigma_bkg, scale_bkg):\n",
    "    return (gauss(x, mu1, sigma1, scale1) +\n",
    "            gauss(x, mu2, sigma2, scale2) +\n",
    "            gauss(x, mu3, sigma3, scale3) +\n",
    "            gauss(x, mu4, sigma4, scale4) +\n",
    "            gauss(x, mu5, sigma5, scale5) +\n",
    "            gauss(x, mu6, sigma6, scale6) +\n",
    "            gauss(x, mu7, sigma7, scale7) +\n",
    "            gauss(x, mu8, sigma8, scale8) +\n",
    "            gauss(x, mu_bkg, sigma_bkg, scale_bkg))\n",
    "\n",
    "def ten_gauss_bkg(x, mu1, sigma1, scale1,\n",
    "                    mu2, sigma2, scale2,\n",
    "                    mu3, sigma3, scale3,\n",
    "                    mu4, sigma4, scale4,\n",
    "                    mu5, sigma5, scale5,\n",
    "                    mu6, sigma6, scale6,\n",
    "                    mu7, sigma7, scale7,\n",
    "                    mu8, sigma8, scale8,\n",
    "                    mu9, sigma9, scale9,\n",
    "                    mu10, sigma10, scale10,\n",
    "                    mu_bkg, sigma_bkg, scale_bkg):\n",
    "    return (gauss(x, mu1, sigma1, scale1) +\n",
    "            gauss(x, mu2, sigma2, scale2) +\n",
    "            gauss(x, mu3, sigma3, scale3) +\n",
    "            gauss(x, mu4, sigma4, scale4) +\n",
    "            gauss(x, mu5, sigma5, scale5) +\n",
    "            gauss(x, mu6, sigma6, scale6) +\n",
    "            gauss(x, mu7, sigma7, scale7) +\n",
    "            gauss(x, mu8, sigma8, scale8) +\n",
    "            gauss(x, mu9, sigma9, scale9) +\n",
    "            gauss(x, mu10, sigma10, scale10) +\n",
    "            gauss(x, mu_bkg, sigma_bkg, scale_bkg))\n",
    "\n"
   ]
  },
  {
   "cell_type": "markdown",
   "id": "6",
   "metadata": {},
   "source": [
    "# Analisi grafici pettine"
   ]
  },
  {
   "cell_type": "markdown",
   "id": "7",
   "metadata": {},
   "source": [
    "## Acquisizione dati"
   ]
  },
  {
   "cell_type": "code",
   "execution_count": null,
   "id": "8",
   "metadata": {},
   "outputs": [],
   "source": [
    "thr_sequence = 10\n",
    "thr_noise = 10\n",
    "thr_errors = 30\n",
    "\n",
    "root_path = r'Dati/Parte 1/ADC_factor/Nuovi2/'\n",
    "read_data = lambda x: crop_df(read_corretto(root_path + x + '.txt'), thr_sequence, thr_noise)\n",
    "\n",
    "p53_5 = read_data('53.5')\n",
    "p54 =   read_data('54')\n",
    "p54_5 = read_data('54.5')\n",
    "p55 =   read_data('55')\n",
    "p55_5 = read_data('55.5')\n",
    "p56 =   read_data('56')\n",
    "p56_5 = read_data('56.5')\n",
    "\n",
    "p53_5['Errors'] = assign_errors(p53_5, thr_errors)\n",
    "p54['Errors'] =   assign_errors(p54, thr_errors)\n",
    "p54_5['Errors'] = assign_errors(p54_5, thr_errors)\n",
    "p55['Errors'] =   assign_errors(p55, thr_errors)\n",
    "p55_5['Errors'] = assign_errors(p55_5, thr_errors)\n",
    "p56['Errors'] =   assign_errors(p56, thr_errors)\n",
    "p56_5['Errors'] = assign_errors(p56_5, thr_errors)"
   ]
  },
  {
   "cell_type": "code",
   "execution_count": null,
   "id": "9",
   "metadata": {},
   "outputs": [],
   "source": [
    "# plot di tutte le curve\n",
    "\n",
    "displays = range(7)\n",
    "\n",
    "plt.figure(figsize=(20, 10))\n",
    "\n",
    "if 0 in displays:\n",
    "    plt.errorbar(p53_5['ADC'], p53_5['Counts'], yerr=p53_5['Errors'], label='53.5 V', color='#e377c2', marker='.', linestyle='none')\n",
    "    plt.plot(p53_5['ADC'], p53_5['Counts'], color='#e377c2', alpha=0.7)\n",
    "    # plt.fill_between(p53_5['ADC'], p53_5['Counts'], color='#e377c2', alpha=0.2)\n",
    "if 1 in displays:\n",
    "    plt.errorbar(p54['ADC'], p54['Counts'], yerr=p54['Errors'], label='54 V', color=\"#79463c\", marker='.', linestyle='none')\n",
    "    plt.plot(p54['ADC'], p54['Counts'], color=\"#79463c\", alpha=0.7)\n",
    "    # plt.fill_between(p54['ADC'], p54['Counts'], color=\"#79463c\", alpha=0.2)\n",
    "if 2 in displays:\n",
    "    plt.errorbar(p54_5['ADC'], p54_5['Counts'], yerr=p54_5['Errors'], label='54.5 V', color='#9467bd', marker='.', linestyle='none')\n",
    "    plt.plot(p54_5['ADC'], p54_5['Counts'], color=\"#9467bd\", alpha=0.7)\n",
    "    # plt.fill_between(p54_5['ADC'], p54_5['Counts'], color='#9467bd', alpha=0.2)\n",
    "if 3 in displays:\n",
    "    plt.errorbar(p55['ADC'], p55['Counts'], yerr=p55['Errors'], label='55 V', color='#d62728', marker='.', linestyle='none')\n",
    "    plt.plot(p55['ADC'], p55['Counts'], color='#d62728', alpha=0.7)\n",
    "    # plt.fill_between(p55['ADC'], p55['Counts'], color='#d62728', alpha=0.2)\n",
    "if 4 in displays:\n",
    "    plt.errorbar(p55_5['ADC'], p55_5['Counts'], yerr=p55_5['Errors'], label='55.5 V', color='#2ca02c', marker='.', linestyle='none')\n",
    "    plt.plot(p55_5['ADC'], p55_5['Counts'], color='#2ca02c', alpha=0.7)\n",
    "    # plt.fill_between(p55_5['ADC'], p55_5['Counts'], color='#2ca02c', alpha=0.2)\n",
    "if 5 in displays:\n",
    "    plt.errorbar(p56['ADC'], p56['Counts'], yerr=p56['Errors'], label='56 V', color='#ff7f0e', marker='.', linestyle='none')\n",
    "    plt.plot(p56['ADC'], p56['Counts'], color='#ff7f0e', alpha=0.7)\n",
    "    # plt.fill_between(p56['ADC'], p56['Counts'], color='#ff7f0e', alpha=0.2)\n",
    "if 6 in displays:\n",
    "    plt.errorbar(p56_5['ADC'], p56_5['Counts'], yerr=p56_5['Errors'], label='56.5 V', color='#1f77b4', marker='.', linestyle='none')\n",
    "    plt.plot(p56_5['ADC'], p56_5['Counts'], color='#1f77b4', alpha=0.7)\n",
    "    # plt.fill_between(p56_5['ADC'], p56_5['Counts'], color='#1f77b4', alpha=0.2)\n",
    "\n",
    "plt.xlabel('ADC channels')\n",
    "plt.ylabel('Counts')\n",
    "plt.legend()\n",
    "plt.grid(linestyle='--', linewidth=0.5, alpha=0.7)\n",
    "\n",
    "# Tick ogni 100, ma mostra solo alcuni valori come etichetta\n",
    "ticks = np.arange(int(plt.xlim()[0]//100*100), int(plt.xlim()[1])+100, 100)\n",
    "plt.xticks(ticks, ['' if i % 500 != 0 else str(int(i)) for i in ticks])  # mostra solo ogni 500\n",
    "plt.xlim(right=4500, left=0)  # Imposta i limiti dell'asse x\n",
    "\n",
    "plt.show()"
   ]
  },
  {
   "cell_type": "markdown",
   "id": "10",
   "metadata": {},
   "source": [
    "__Commento__ \\\n",
    "Per gli errori uso la soluzione che abbiamo discusso in precedenza"
   ]
  },
  {
   "cell_type": "markdown",
   "id": "11",
   "metadata": {},
   "source": [
    "## Analisi 53.5"
   ]
  },
  {
   "cell_type": "code",
   "execution_count": null,
   "id": "12",
   "metadata": {},
   "outputs": [],
   "source": [
    "par53_5, val53_5, err53_5, pval53_5, dof53_5, csq53_5, *other53_5 = LS_fit(p53_5['ADC'], p53_5['Counts'], p53_5['Errors'], seven_gauss_bkg,\n",
    "                                                                mu1=60, sigma1=10, scale1=2000,\n",
    "                                                                mu2=120, sigma2=10, scale2=4000,\n",
    "                                                                mu3=180, sigma3=10, scale3=8000,\n",
    "                                                                mu4=240, sigma4=10, scale4=8000,\n",
    "                                                                mu5=300, sigma5=10, scale5=8000,\n",
    "                                                                mu6=360, sigma6=10, scale6=6000,\n",
    "                                                                mu7=420, sigma7=10, scale7=4000,\n",
    "                                                                mu_bkg=300, sigma_bkg=150, scale_bkg=2000,\n",
    "                                                                disp=0)\n",
    "# L'immagine del fit non e' corretta, ma il fit e' buono\n",
    "# t = np.linspace(0, 600, 1000)\n",
    "# plt.plot(t, seven_gauss_bkg(t, *val53_5), label='Fit 53.5 V', color='#e377c2')\n",
    "# plt.errorbar(p53_5['ADC'], p53_5['Counts'], yerr=p53_5['Errors'], label='Dati 53.5 V', color='#e377c2', marker='.', linestyle='none')\n",
    "\n",
    "if 0:\n",
    "    for i in range(len(par53_5)):\n",
    "        print(f\"parametro {par53_5[i]}: {val53_5[i]:.5g} ± {err53_5[i]:.5g}\")\n",
    "\n",
    "    print(\"----------\")\n",
    "    print(f\"chi2 ridotto: {csq53_5/dof53_5:.5g}\")\n",
    "    print(f\"p-value: {pval53_5:.5g}\")"
   ]
  },
  {
   "cell_type": "code",
   "execution_count": null,
   "id": "13",
   "metadata": {},
   "outputs": [],
   "source": [
    "# Calcolo distanze tra picchi con media pesata\n",
    "\n",
    "peaks53_5 = [val53_5[i] for i in range(len(val53_5)) if i % 3 == 0 and i < len(val53_5) - 3]\n",
    "errs53_5 = [val53_5[i+1] for i in range(len(val53_5)) if i % 3 == 0 and i < len(val53_5) - 3] # sigma delle gaussiane\n",
    "\n",
    "dist53_5, err_dist53_5 = calculate_distances(peaks53_5, errs53_5)\n",
    "mean_53_5, err_mean53_5 = media_pesata(dist53_5, err_dist53_5)\n",
    "\n",
    "print(f'Distanza media 53.5 V: {mean_53_5:.5g} ± {err_mean53_5:.5g}')"
   ]
  },
  {
   "cell_type": "markdown",
   "id": "14",
   "metadata": {},
   "source": [
    "## Analisi 54"
   ]
  },
  {
   "cell_type": "code",
   "execution_count": null,
   "id": "15",
   "metadata": {},
   "outputs": [],
   "source": [
    "par54, val54, err54, pval54, dof54, csq54, *other54 = LS_fit(p54['ADC'], p54['Counts'], p54['Errors'], eight_gauss_bkg,\n",
    "                                                                mu1=160, sigma1=10, scale1=2000,\n",
    "                                                                mu2=250, sigma2=10, scale2=4000,\n",
    "                                                                mu3=340, sigma3=10, scale3=6000,\n",
    "                                                                mu4=430, sigma4=10, scale4=6000,\n",
    "                                                                mu5=520, sigma5=10, scale5=6000,\n",
    "                                                                mu6=600, sigma6=10, scale6=5000,\n",
    "                                                                mu7=690, sigma7=10, scale7=3000,\n",
    "                                                                mu8=780, sigma8=10, scale8=2000,\n",
    "                                                                mu_bkg=550, sigma_bkg=300, scale_bkg=2000,\n",
    "                                                                disp=0)\n",
    "\n",
    "if 0:\n",
    "    for i in range(len(par54)):\n",
    "        print(f\"parametro {par54[i]}: {val54[i]:.5g} ± {err54[i]:.5g}\")\n",
    "\n",
    "    print(\"----------\")\n",
    "    print(f\"chi2 ridotto: {csq54/dof54:.5g}\")\n",
    "    print(f\"p-value: {pval54:.5g}\")"
   ]
  },
  {
   "cell_type": "code",
   "execution_count": null,
   "id": "16",
   "metadata": {},
   "outputs": [],
   "source": [
    "peaks54 = [val54[i] for i in range(len(val54)) if i % 3 == 0 and i < len(val54) - 3]\n",
    "errs54 = [val54[i+1] for i in range(len(val54)) if i % 3 == 0 and i < len(val54) - 3]\n",
    "\n",
    "dist54, err_dist54 = calculate_distances(peaks54, errs54)\n",
    "mean_54, err_mean54 = media_pesata(dist54, err_dist54)\n",
    "\n",
    "print(f'Distanza media 54 V: {mean_54:.5g} ± {err_mean54:.5g}')"
   ]
  },
  {
   "cell_type": "markdown",
   "id": "17",
   "metadata": {},
   "source": [
    "## Analisi 54.5"
   ]
  },
  {
   "cell_type": "code",
   "execution_count": null,
   "id": "18",
   "metadata": {},
   "outputs": [],
   "source": [
    "par54_5, val54_5, err54_5, pval54_5, dof54_5, csq54_5, *other54_5 = LS_fit(p54_5['ADC'], p54_5['Counts'], p54_5['Errors'], ten_gauss_bkg,\n",
    "                                                                            mu1=210, sigma1=10, scale1=1000,\n",
    "                                                                            mu2=320, sigma2=10, scale2=2000,\n",
    "                                                                            mu3=430, sigma3=10, scale3=3000,\n",
    "                                                                            mu4=540, sigma4=10, scale4=4000,\n",
    "                                                                            mu5=650, sigma5=10, scale5=4000,\n",
    "                                                                            mu6=760, sigma6=10, scale6=4000,\n",
    "                                                                            mu7=870, sigma7=10, scale7=4000,\n",
    "                                                                            mu8=980, sigma8=10, scale8=3000,\n",
    "                                                                            mu9=1090, sigma9=10, scale9=2000,\n",
    "                                                                            mu10=1200, sigma10=10, scale10=1000,\n",
    "                                                                            mu_bkg=800, sigma_bkg=400, scale_bkg=2000,\n",
    "                                                                            disp=0)\n",
    "\n",
    "if 0:\n",
    "    for i in range(len(par54_5)):\n",
    "        print(f\"parametro {par54_5[i]}: {val54_5[i]:.5g} ± {err54_5[i]:.5g}\")\n",
    "\n",
    "    print(\"----------\")\n",
    "    print(f\"chi2 ridotto: {csq54_5/dof54_5:.5g}\")\n",
    "    print(f\"p-value: {pval54_5:.5g}\")"
   ]
  },
  {
   "cell_type": "code",
   "execution_count": null,
   "id": "19",
   "metadata": {},
   "outputs": [],
   "source": [
    "peaks54_5 = [val54_5[i] for i in range(len(val54_5)) if i % 3 == 0 and i < len(val54_5) - 3]\n",
    "errs54_5 = [val54_5[i+1] for i in range(len(val54_5)) if i % 3 == 0 and i < len(val54_5) - 3]\n",
    "\n",
    "dist54_5, err_dist54_5 = calculate_distances(peaks54_5, errs54_5)\n",
    "mean_54_5, err_mean54_5 = media_pesata(dist54_5, err_dist54_5)\n",
    "\n",
    "print(f'Distanza media 54.5 V: {mean_54_5:.5g} ± {err_mean54_5:.5g}')"
   ]
  },
  {
   "cell_type": "markdown",
   "id": "20",
   "metadata": {},
   "source": [
    "## Analisi 55"
   ]
  },
  {
   "cell_type": "code",
   "execution_count": null,
   "id": "21",
   "metadata": {},
   "outputs": [],
   "source": [
    "par55, val55, err55, pval55, dof55, csq55, *other55 = LS_fit(p55['ADC'], p55['Counts'], p55['Errors'], ten_gauss_bkg,\n",
    "                                                                mu1=450, sigma1=10, scale1=500,\n",
    "                                                                mu2=620, sigma2=10, scale2=1000,\n",
    "                                                                mu3=790, sigma3=10, scale3=2000,\n",
    "                                                                mu4=940, sigma4=10, scale4=2500,\n",
    "                                                                mu5=1090, sigma5=10, scale5=3000,\n",
    "                                                                mu6=1250, sigma6=10, scale6=3000,\n",
    "                                                                mu7=1400, sigma7=10, scale7=3000,\n",
    "                                                                mu8=1550, sigma8=10, scale8=2500,\n",
    "                                                                mu9=1710, sigma9=10, scale9=2000,\n",
    "                                                                mu10=1860, sigma10=10, scale10=1500,\n",
    "                                                                mu_bkg=1500, sigma_bkg=600, scale_bkg=2000,\n",
    "                                                                disp=0)\n",
    "\n",
    "if 0:\n",
    "    for i in range(len(par55)):\n",
    "        print(f\"parametro {par55[i]}: {val55[i]:.5g} ± {err55[i]:.5g}\")\n",
    "\n",
    "    print(\"----------\")\n",
    "    print(f\"chi2 ridotto: {csq55/dof55:.5g}\")\n",
    "    print(f\"p-value: {pval55:.5g}\")"
   ]
  },
  {
   "cell_type": "code",
   "execution_count": null,
   "id": "22",
   "metadata": {},
   "outputs": [],
   "source": [
    "peaks55 = [val55[i] for i in range(len(val55)) if i % 3 == 0 and i < len(val55) - 3]\n",
    "errs55 = [val55[i+1] for i in range(len(val55)) if i % 3 == 0 and i < len(val55) - 3]\n",
    "\n",
    "dist55, err_dist55 = calculate_distances(peaks55, errs55)\n",
    "mean_55, err_mean55 = media_pesata(dist55, err_dist55)\n",
    "\n",
    "print(f'Distanza media 55 V: {mean_55:.5g} ± {err_mean55:.5g}')"
   ]
  },
  {
   "cell_type": "markdown",
   "id": "23",
   "metadata": {},
   "source": [
    "## Analisi 55.5"
   ]
  },
  {
   "cell_type": "code",
   "execution_count": null,
   "id": "24",
   "metadata": {},
   "outputs": [],
   "source": [
    "par55_5, val55_5, err55_5, pval55_5, dof55_5, csq55_5, *other55_5 = LS_fit(p55_5['ADC'], p55_5['Counts'], p55_5['Errors'], ten_gauss_bkg,\n",
    "                                                                mu1=540, sigma1=10, scale1=300,\n",
    "                                                                mu2=720, sigma2=10, scale2=600,\n",
    "                                                                mu3=900, sigma3=10, scale3=1200,\n",
    "                                                                mu4=1080, sigma4=10, scale4=1500,\n",
    "                                                                mu5=1260, sigma5=10, scale5=2000,\n",
    "                                                                mu6=1440, sigma6=10, scale6=2500,\n",
    "                                                                mu7=1620, sigma7=10, scale7=2500,\n",
    "                                                                mu8=1800, sigma8=10, scale8=2000,\n",
    "                                                                mu9=1980, sigma9=10, scale9=2000,\n",
    "                                                                mu10=2160, sigma10=10, scale10=1500,\n",
    "                                                                mu_bkg=1800, sigma_bkg=600, scale_bkg=2000,\n",
    "                                                                disp=0)\n",
    "\n",
    "if 0:\n",
    "    for i in range(len(par55_5)):\n",
    "        print(f\"parametro {par55_5[i]}: {val55_5[i]:.5g} ± {err55_5[i]:.5g}\")\n",
    "\n",
    "    print(\"----------\")\n",
    "    print(f\"chi2 ridotto: {csq55_5/dof55_5:.5g}\")\n",
    "    print(f\"p-value: {pval55_5:.5g}\")"
   ]
  },
  {
   "cell_type": "code",
   "execution_count": null,
   "id": "25",
   "metadata": {},
   "outputs": [],
   "source": [
    "peaks55_5 = [val55_5[i] for i in range(len(val55_5)) if i % 3 == 0 and i < len(val55_5) - 3]\n",
    "errs55_5 = [val55_5[i+1] for i in range(len(val55_5)) if i % 3 == 0 and i < len(val55_5) - 3]\n",
    "\n",
    "dist55_5, err_dist55_5 = calculate_distances(peaks55_5, errs55_5)\n",
    "mean_55_5, err_mean55_5 = media_pesata(dist55_5, err_dist55_5)\n",
    "\n",
    "print(f'Distanza media 55.5 V: {mean_55_5:.5g} ± {err_mean55_5:.5g}')"
   ]
  },
  {
   "cell_type": "markdown",
   "id": "26",
   "metadata": {},
   "source": [
    "## Analisi 56"
   ]
  },
  {
   "cell_type": "code",
   "execution_count": null,
   "id": "27",
   "metadata": {},
   "outputs": [],
   "source": [
    "par56, val56, err56, pval56, dof56, csq56, *other56 = LS_fit(p56['ADC'], p56['Counts'], p56['Errors'], ten_gauss_bkg,\n",
    "                                                                mu1=810, sigma1=10, scale1=500,\n",
    "                                                                mu2=1020, sigma2=10, scale2=750,\n",
    "                                                                mu3=1230, sigma3=10, scale3=1000,\n",
    "                                                                mu4=1440, sigma4=10, scale4=1500,\n",
    "                                                                mu5=1650, sigma5=10, scale5=1750,\n",
    "                                                                mu6=1860, sigma6=10, scale6=1750,\n",
    "                                                                mu7=2070, sigma7=10, scale7=1750,\n",
    "                                                                mu8=2280, sigma8=10, scale8=1500,\n",
    "                                                                mu9=2480, sigma9=10, scale9=1250,\n",
    "                                                                mu10=2680, sigma10=10, scale10=1250,\n",
    "                                                                mu_bkg=2400, sigma_bkg=700, scale_bkg=800,\n",
    "                                                                disp=0)\n",
    "\n",
    "if 0:\n",
    "    for i in range(len(par56)):\n",
    "        print(f\"parametro {par56[i]}: {val56[i]:.5g} ± {err56[i]:.5g}\")\n",
    "\n",
    "    print(\"----------\")\n",
    "    print(f\"chi2 ridotto: {csq56/dof56:.5g}\")\n",
    "    print(f\"p-value: {pval56:.5g}\")"
   ]
  },
  {
   "cell_type": "code",
   "execution_count": null,
   "id": "28",
   "metadata": {},
   "outputs": [],
   "source": [
    "peaks56 = [val56[i] for i in range(len(val56)) if i % 3 == 0 and i < len(val56) - 3]\n",
    "errs56 = [val56[i+1] for i in range(len(val56)) if i % 3 == 0 and i < len(val56) - 3]\n",
    "\n",
    "dist56, err_dist56 = calculate_distances(peaks56, errs56)\n",
    "mean_56, err_mean56 = media_pesata(dist56, err_dist56)\n",
    "\n",
    "print(f'Distanza media 56 V: {mean_56:.5g} ± {err_mean56:.5g}')"
   ]
  },
  {
   "cell_type": "markdown",
   "id": "29",
   "metadata": {},
   "source": [
    "## Analisi 56.5"
   ]
  },
  {
   "cell_type": "markdown",
   "id": "30",
   "metadata": {},
   "source": [
    "__Commento__ \\\n",
    "Sono tornato ad usare la funzione a 8 gaussiane poiche' il bkg e' diventato parecchio alto verso la fine"
   ]
  },
  {
   "cell_type": "code",
   "execution_count": null,
   "id": "31",
   "metadata": {},
   "outputs": [],
   "source": [
    "pars56_5, val56_5, err56_5, pval56_5, dof56_5, csq56_5, *other56_5 = LS_fit(p56_5['ADC'], p56_5['Counts'], p56_5['Errors'], eight_gauss_bkg,\n",
    "                                                                mu1=910, sigma1=10, scale1=200,\n",
    "                                                                mu2=1150, sigma2=10, scale2=400,\n",
    "                                                                mu3=1390, sigma3=10, scale3=600,\n",
    "                                                                mu4=1600, sigma4=10, scale4=1000,\n",
    "                                                                mu5=1850, sigma5=10, scale5=1100,\n",
    "                                                                mu6=2050, sigma6=10, scale6=1200,\n",
    "                                                                mu7=2300, sigma7=10, scale7=1200,\n",
    "                                                                mu8=2550, sigma8=10, scale8=1000,\n",
    "                                                                mu_bkg=2200, sigma_bkg=500, scale_bkg=800,\n",
    "                                                                disp=0)\n",
    "\n",
    "if 0:\n",
    "    for i in range(len(pars56_5)):\n",
    "        print(f\"parametro {pars56_5[i]}: {val56_5[i]:.5g} ± {err56_5[i]:.5g}\")\n",
    "\n",
    "    print(\"----------\")\n",
    "    print(f\"chi2 ridotto: {csq56_5/dof56_5:.5g}\")\n",
    "    print(f\"p-value: {pval56_5:.5g}\")"
   ]
  },
  {
   "cell_type": "code",
   "execution_count": null,
   "id": "32",
   "metadata": {},
   "outputs": [],
   "source": [
    "peaks56_5 = [val56_5[i] for i in range(len(val56_5)) if i % 3 == 0 and i < len(val56_5) - 3]\n",
    "errs56_5 = [val56_5[i+1] for i in range(len(val56_5)) if i % 3 == 0 and i < len(val56_5) - 3]\n",
    "\n",
    "dist56_5, err_dist56_5 = calculate_distances(peaks56_5, errs56_5)\n",
    "mean_56_5, err_mean56_5 = media_pesata(dist56_5, err_dist56_5)\n",
    "\n",
    "print(f'Distanza media 56.5 V: {mean_56_5:.5g} ± {err_mean56_5:.5g}')"
   ]
  },
  {
   "cell_type": "markdown",
   "id": "33",
   "metadata": {},
   "source": [
    "# Analisi distanze medie"
   ]
  },
  {
   "cell_type": "markdown",
   "id": "34",
   "metadata": {},
   "source": [
    "## Risultati run "
   ]
  },
  {
   "cell_type": "code",
   "execution_count": null,
   "id": "35",
   "metadata": {},
   "outputs": [],
   "source": [
    "def linear(x, m, q):\n",
    "    return m * x + q\n",
    "\n",
    "x = np.array([53.5, 54, 54.5, 55, 55.5, 56, 56.5])\n",
    "means = np.array([mean_53_5, mean_54, mean_54_5, mean_55, mean_55_5, mean_56, mean_56_5])\n",
    "means_err = np.array([err_mean53_5, err_mean54, err_mean54_5, err_mean55, err_mean55_5, err_mean56, err_mean56_5])\n",
    "\n",
    "pars_mean, val_mean, err_mean, *other_mean = LS_fit(x, means, means_err, linear, m=0.1, q=0.1, disp=0)\n",
    "\n",
    "chi2_rid = other_mean[2] / other_mean[1]\n",
    "print(f'Chi quadrato ridotto per fit lineare: {chi2_rid:.5g}')"
   ]
  },
  {
   "cell_type": "code",
   "execution_count": null,
   "id": "36",
   "metadata": {},
   "outputs": [],
   "source": [
    "t = np.linspace(53, 57, 100)\n",
    "\n",
    "plt.figure(figsize=(8, 6))\n",
    "plt.errorbar(x, means, yerr=means_err, label='Distanze medie', color='blue', marker='o', linestyle='none')\n",
    "plt.plot(t, linear(t, *val_mean), label=fr'Fit lineare, $\\tilde\\chi^2 = {chi2_rid:.3g}$', color='red')\n",
    "\n",
    "plt.xlabel('Tensione (V)')\n",
    "plt.ylabel('Distanza media (ADC)')\n",
    "plt.legend()\n",
    "plt.grid(linestyle='--', linewidth=0.5, alpha=0.7)\n",
    "plt.show()"
   ]
  },
  {
   "cell_type": "code",
   "execution_count": null,
   "id": "37",
   "metadata": {},
   "outputs": [],
   "source": [
    "# Calcolo intercetta per tensione di breakdown\n",
    "\n",
    "breakdown_voltage = -val_mean[1] / val_mean[0]\n",
    "bdv_err = np.abs(breakdown_voltage) * np.sqrt((err_mean[1] / val_mean[1])**2 + (err_mean[0] / val_mean[0])**2)\n",
    "\n",
    "print(f'Tensione di breakdown: {breakdown_voltage:.5g} ± {bdv_err:.5g} V')"
   ]
  },
  {
   "cell_type": "markdown",
   "id": "38",
   "metadata": {},
   "source": [
    "## Test media con altri dati"
   ]
  },
  {
   "cell_type": "markdown",
   "id": "39",
   "metadata": {},
   "source": [
    "### Run 1 + Run 2"
   ]
  },
  {
   "cell_type": "markdown",
   "id": "40",
   "metadata": {},
   "source": [
    "Media con i dati della prima run passati a voce"
   ]
  },
  {
   "cell_type": "code",
   "execution_count": null,
   "id": "41",
   "metadata": {},
   "outputs": [],
   "source": [
    "means1 = np.array([60.76, 85.38, 109.37, 155.91, 180.77, 205.14, 230.08])\n",
    "means1_err = np.array([7.45, 8.40, 8.86, 9.53, 10.17, 11.75, 13.39])\n",
    "\n",
    "def media(x1, x2, s1, s2):\n",
    "    return (x1/s1**2 + x2/s2**2) / (1/s1**2 + 1/s2**2)\n",
    "\n",
    "def errore_media(s1, s2):\n",
    "    return np.sqrt(1 / (1/s1**2 + 1/s2**2))\n",
    "\n",
    "means_tot = media(means1, means, means1_err, means_err)\n",
    "means_tot_err = errore_media(means1_err, means_err)\n",
    "\n",
    "plt.errorbar(x, means, yerr=means_err, fmt='.', label='Distanze medie run 2', color='#1f77b4')\n",
    "plt.errorbar(x, means1, yerr=means1_err, fmt='.', label='Distanze medie run 1', color=\"#43c249\")\n",
    "plt.errorbar(x, means_tot, yerr=means_tot_err, fmt='x', label='Media pesata delle distanze medie', color=\"#ff0e0e\")\n",
    "plt.legend()\n",
    "plt.xlabel('Tensione (V)')\n",
    "plt.ylabel('Distanza media (ADC)')"
   ]
  },
  {
   "cell_type": "code",
   "execution_count": null,
   "id": "42",
   "metadata": {},
   "outputs": [],
   "source": [
    "# Fit lineare delle distanze medie totali\n",
    "\n",
    "part, valt, errt, *othert = LS_fit(x, means_tot, means_tot_err, linear, m=0.1, q=0.1, disp=0)\n",
    "chi2_rid_tot = othert[2] / othert[1]\n",
    "print(f'Chi quadrato ridotto per fit lineare delle distanze medie totali: {chi2_rid_tot:.5g}')\n",
    "print(f'Tensione di breakdown totale: {-valt[1] / valt[0]:.5g} ± {np.abs(-valt[1] / valt[0]) * np.sqrt((errt[1] / valt[1])**2 + (errt[0] / valt[0])**2):.5g} V')"
   ]
  },
  {
   "cell_type": "code",
   "execution_count": null,
   "id": "43",
   "metadata": {},
   "outputs": [],
   "source": [
    "# Plot del fit lineare totale\n",
    "\n",
    "plt.figure(figsize=(8, 6))\n",
    "plt.plot(t, linear(t, *valt), label=fr'Fit lineare totale, $\\tilde\\chi^2 = {chi2_rid_tot:.3g}$', color='blue')\n",
    "plt.errorbar(x, means_tot, yerr=means_tot_err, fmt='x', label='Media pesata delle distanze medie', color=\"#ff0e0e\")\n",
    "plt.xlabel('Tensione (V)')\n",
    "plt.ylabel('Distanza media (ADC)')\n",
    "plt.legend()\n",
    "plt.grid(linestyle='--', linewidth=0.5, alpha=0.7)\n",
    "plt.show()"
   ]
  },
  {
   "cell_type": "markdown",
   "id": "44",
   "metadata": {},
   "source": [
    "### Run 0 fino a 2 (condizionata)"
   ]
  },
  {
   "cell_type": "markdown",
   "id": "45",
   "metadata": {},
   "source": [
    "Media con i dati della run 0"
   ]
  },
  {
   "cell_type": "code",
   "execution_count": null,
   "id": "46",
   "metadata": {},
   "outputs": [],
   "source": [
    "v0 = np.array([53, 53.5, 54, 54.5, 55.5])\n",
    "means0 = np.array([31.68, 51.88, 83.55, 105.05, 148.3])\n",
    "means0_err = np.array([5.01, 5.73, 7.61, 8.41, 12.37])\n",
    "\n",
    "def media_condizionata(x0, x1, x2, s0, s1, s2, a0, a1):\n",
    "    \"\"\"\n",
    "    Calcola la media tra array con x diversi\n",
    "    \"\"\"\n",
    "    med = []\n",
    "    for i in range(len(a1)):\n",
    "        if a1[i] in a0:\n",
    "            med.append((x0[i] / s0[i]**2 + x1[i] / s1[i]**2 + x2[i] / s2[i]**2)/(1/s0[i]**2 + 1/s1[i]**2 + 1/s2[i]**2))\n",
    "        else:\n",
    "            med.append((x1[i] / s1[i]**2 + x2[i] / s2[i]**2)/(1/s1[i]**2 + 1/s2[i]**2))\n",
    "    return np.array(med)\n",
    "def errore_media_condizionata(s0, s1, s2, a0, a1):\n",
    "    \"\"\"\n",
    "    Calcola l'errore della media condizionata\n",
    "    \"\"\"\n",
    "    err = []\n",
    "    for i in range(len(a1)):\n",
    "        if a1[i] in a0:\n",
    "            err.append(np.sqrt(1/(1/s0[i]**2 + 1/s1[i]**2 + 1/s2[i]**2)))\n",
    "        else:\n",
    "            err.append(np.sqrt(1/(1/s1[i]**2 + 1/s2[i]**2)))\n",
    "    return np.array(err)\n",
    "\n",
    "means_cond = media_condizionata(means0, means_tot, means1, means0_err, means_tot_err, means1_err, v0, x)\n",
    "means_cond_err = errore_media_condizionata(means0_err, means_tot_err, means1_err, v0, x)"
   ]
  },
  {
   "cell_type": "code",
   "execution_count": null,
   "id": "47",
   "metadata": {},
   "outputs": [],
   "source": [
    "plt.errorbar(x, means_tot, yerr=means_tot_err, fmt='.', label='Distanze medie con errori', color='#1f77b4')\n",
    "plt.errorbar(x, means_cond, yerr=means_cond_err, fmt='x', label='Media condizionata delle distanze medie', color=\"#ff0e0e\")"
   ]
  },
  {
   "cell_type": "code",
   "execution_count": null,
   "id": "48",
   "metadata": {},
   "outputs": [],
   "source": [
    "parcond, valcond, errcond, *othercond = LS_fit(x, means_cond, means_cond_err, linear, m=0.1, q=0.1, disp=1)"
   ]
  },
  {
   "cell_type": "markdown",
   "id": "49",
   "metadata": {},
   "source": [
    "### Run 1 e 2 con 53 da run 0"
   ]
  },
  {
   "cell_type": "code",
   "execution_count": null,
   "id": "50",
   "metadata": {},
   "outputs": [],
   "source": [
    "m = np.insert(means_tot, 0, means0[0])\n",
    "s = np.insert(means_tot_err, 0, means0_err[0])\n",
    "xm = np.insert(x, 0, v0[0])\n",
    "\n",
    "par, val, err, *oth = LS_fit(xm, m, s, linear, m=0.1, q=0.1, disp=0)\n",
    "c2r = oth[2] / oth[1]\n",
    "vbr = -val[1] / val[0]\n",
    "vbr_err = np.abs(vbr) * np.sqrt((err[1] / val[1])**2 + (err[0] / val[0])**2)\n",
    "print(f'Chi quadrato ridotto per fit lineare della media: {c2r:.5g}')\n",
    "print(f'pvalue: {oth[0]:.5g}')\n",
    "print(f'Tensione di breakdown totale: {vbr:.5g} ± {vbr_err:.5g} V')"
   ]
  },
  {
   "cell_type": "code",
   "execution_count": null,
   "id": "51",
   "metadata": {},
   "outputs": [],
   "source": [
    "t2 = np.linspace(52.5, 57, 100)\n",
    "\n",
    "plt.figure(figsize=(10, 6))\n",
    "plt.plot(t2, linear(t2, *val), label=fr'Fit lineare, $\\tilde\\chi^2 = {c2r:.3g}$', color='red')\n",
    "plt.errorbar(xm, m, yerr=s, fmt='.', label='Distanze medie', color='blue')\n",
    "\n",
    "plt.xlabel('Tensione (V)', fontsize = 12)\n",
    "plt.ylabel('Distanza media (ADC)', fontsize = 12)\n",
    "plt.legend(fontsize=12)\n",
    "plt.grid(linestyle='--', linewidth=0.5, alpha=0.7)\n",
    "plt.show()"
   ]
  },
  {
   "cell_type": "code",
   "execution_count": null,
   "id": "52",
   "metadata": {},
   "outputs": [],
   "source": [
    "for i in range(len(m)):\n",
    "    print(f\"Media {xm[i]} V: {m[i]:.5g} ± {s[i]:.5g}\")"
   ]
  },
  {
   "cell_type": "markdown",
   "id": "53",
   "metadata": {},
   "source": [
    "## Confronto con risultati precedenti"
   ]
  },
  {
   "cell_type": "code",
   "execution_count": null,
   "id": "54",
   "metadata": {},
   "outputs": [],
   "source": [
    "v3 = 52.685\n",
    "v3err = 0.881\n",
    "\n",
    "v4 = 52.740\n",
    "v4err = 0.675\n",
    "\n",
    "v5 = 52.682\n",
    "v5err = 1.466\n",
    "\n",
    "vprod = 52\n",
    "vprod_err = 3\n",
    "\n",
    "print(f'Compatibilita\\' V3: {TestCompatibilita(vbr, vbr_err, v3, v3err):.5g}')\n",
    "print(f'Compatibilita\\' V4: {TestCompatibilita(vbr, vbr_err, v4, v4err):.5g}')\n",
    "print(f'Compatibilita\\' V5: {TestCompatibilita(vbr, vbr_err, v5, v5err):.5g}')\n",
    "print(f'Compatibilita\\' Vprod: {TestCompatibilita(vbr, vbr_err, vprod, vprod_err):.5g}')"
   ]
  },
  {
   "cell_type": "code",
   "execution_count": null,
   "id": "55",
   "metadata": {},
   "outputs": [],
   "source": [
    "vbest, vbest_err = media_pesata([v3, v4, v5, vbr], [v3err, v4err, v5err, vbr_err])\n",
    "\n",
    "print(f'Tensione di breakdown migliore: {vbest:.5g} ± {vbest_err:.5g} V')"
   ]
  }
 ],
 "metadata": {
  "kernelspec": {
   "display_name": "Python 3",
   "language": "python",
   "name": "python3"
  },
  "language_info": {
   "codemirror_mode": {
    "name": "ipython",
    "version": 3
   },
   "file_extension": ".py",
   "mimetype": "text/x-python",
   "name": "python",
   "nbconvert_exporter": "python",
   "pygments_lexer": "ipython3",
   "version": "3.11.1"
  }
 },
 "nbformat": 4,
 "nbformat_minor": 5
}
