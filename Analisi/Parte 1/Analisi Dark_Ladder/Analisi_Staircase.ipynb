{
 "cells": [
  {
   "cell_type": "code",
   "execution_count": null,
   "id": "0",
   "metadata": {},
   "outputs": [],
   "source": [
    "import numpy as np\n",
    "import pandas as pd\n",
    "import matplotlib.pyplot as plt\n",
    "\n",
    "import os\n",
    "while not os.getcwd().endswith('Laboratorio_SiPM'):\n",
    "    os.chdir('..')\n",
    "\n",
    "import sys\n",
    "sys.path.append('Config')\n",
    "from lablib import *"
   ]
  },
  {
   "cell_type": "markdown",
   "id": "1",
   "metadata": {},
   "source": [
    "# Ladder"
   ]
  },
  {
   "cell_type": "code",
   "execution_count": null,
   "id": "2",
   "metadata": {},
   "outputs": [],
   "source": [
    "def invert (X):\n",
    "    for i in range(len(X)):\n",
    "        X[i] = - X[i]\n",
    "    return X"
   ]
  },
  {
   "cell_type": "code",
   "execution_count": null,
   "id": "3",
   "metadata": {},
   "outputs": [],
   "source": [
    "def graph(X1, Y1, X2, Y2, X3, Y3, X4, Y4, X5, Y5, X6, Y6):\n",
    "    plt.figure(figsize=(10, 6))\n",
    "    \n",
    "    fig, ax = plt.subplots(nrows= 1, ncols=1)\n",
    "    plt.plot(invert(X1), Y1, label='53.5V', linewidth=0.8)\n",
    "    ax.scatter(X1, Y1)\n",
    "\n",
    "    plt.plot(invert(X2), Y2, label='54V', linewidth=0.8)\n",
    "    ax.scatter(X2, Y2)\n",
    "\n",
    "    plt.plot(invert(X3), Y3, label='54.5V',linewidth=0.8)\n",
    "    ax.scatter(X3, Y3)\n",
    "    \n",
    "    plt.plot(invert(X5), Y5, label='55V',linewidth=0.8)\n",
    "    ax.scatter(X5, Y5)\n",
    "    \n",
    "    plt.plot(invert(X6), Y6, label='55.5V',linewidth=0.8)\n",
    "    ax.scatter(X6, Y6)\n",
    "\n",
    "    ax.set_yscale (\"log\")\n",
    "    ax.set_xlabel(\"Threshold[mV]\")\n",
    "    ax.set_ylabel(\"Log(Frequency[kHz])\")\n",
    "    ax.legend()\n",
    "    plt.grid()\n",
    "    plt.savefig(\"Staircase_Finale.png\")\n",
    "    plt.show()\n",
    "   "
   ]
  },
  {
   "cell_type": "code",
   "execution_count": null,
   "id": "4",
   "metadata": {},
   "outputs": [],
   "source": [
    "def cut_0(X, Y):\n",
    "    X1 = []\n",
    "    Y1 = []\n",
    "    for i in range(len(X)):\n",
    "        if X[i] != 0:\n",
    "            X1.append(X[i])\n",
    "            Y1.append(Y[i])\n",
    "    return Y1, X1"
   ]
  },
  {
   "cell_type": "code",
   "execution_count": null,
   "id": "5",
   "metadata": {},
   "outputs": [],
   "source": [
    "Z = pd.read_csv(r\"Analisi/Parte 1/Analisi Dark_Ladder/staircase_plot_bello.CSV\")\n",
    "Y = Z[\"Th [mV] V_B 53_5V \"]\n",
    "K1 = cut_0(Z[\"F [kHz] V_B 53_5V\"], Y)\n",
    "K2 = cut_0(Z[\"F [kHz] V_B 54V\"], Y)\n",
    "K3 = cut_0(Z[\"F [kHz] V_B 54_5V\"], Y)\n",
    "K4 = cut_0(Z[\"F [kHz] V_B 55V\"], Y)\n",
    "K5 = cut_0(Z[\"F [kHz] V_B 55_5V\"], Y)\n",
    "K6 = cut_0(Z[\"F [kHz] V_B 56V\"], Y)\n",
    "\n",
    "\n",
    "graph(K1[0], K1[1], K2[0], K2[1], K3[0], K3[1], K4[0], K4[1], K5[0], K5[1], K6[0], K6[1])"
   ]
  },
  {
   "cell_type": "markdown",
   "id": "6",
   "metadata": {},
   "source": [
    "# Crosstalk"
   ]
  },
  {
   "cell_type": "code",
   "execution_count": null,
   "id": "7",
   "metadata": {},
   "outputs": [],
   "source": [
    "Err = (2.47573/100)*np.array([K2[1][10], K2[1][5], K3[1][12], K3[1][6], K5[1][15], K5[1][7], K6[1][17], K6[1][10]])\n",
    "\n",
    "'ASSOCIO I VALORI DI ERRORE AGLI X CORRISPONDENTI'"
   ]
  },
  {
   "cell_type": "code",
   "execution_count": null,
   "id": "8",
   "metadata": {},
   "outputs": [],
   "source": [
    "# ct_53_5 difficilmente distinguibile\n",
    "\n",
    "ct_54 = K2[1][10] / K2[1][5]\n",
    "err_54 = np.sqrt((Err[0]/K2[1][5])**2 + (K2[1][10]*Err[1])**2/K2[1][5]**4)\n",
    "\n",
    "ct_54_5 = K3[1][12] / K3[1][6]\n",
    "err_54_5 = np.sqrt((Err[2]/K3[1][6])**2 + (K3[1][12]*Err[3])**2/K3[1][6]**4)\n",
    "\n",
    "ct_55 = K5[1][14] / K5[1][7]\n",
    "err_55 = np.sqrt((Err[4]/K5[1][7])**2 + (K5[1][14]*Err[5])**2/K5[1][7]**4)\n",
    "\n",
    "ct_55_5 = K6[1][17] / K6[1][10]\n",
    "err_55_5 = np.sqrt((Err[6]/K6[1][10])**2 + (K6[1][17]*Err[7])**2/K6[1][10]**4)\n",
    "\n",
    "\n",
    "x = np.array([54, 54.5, 55, 55.5])\n",
    "y = np.array([ct_54, ct_54_5, ct_55, ct_55_5])\n",
    "#yer = [.001 for i in range(len(x))] \n",
    "#yer = np.array([0.008, 0.008, 0.008, 0.008])  # Errore relativo costante per tutti i punti\n",
    "yer = [err_54, err_54_5, err_55, err_55_5]\n",
    "\n",
    "vbr = 52\n",
    "\n",
    "print (y)\n",
    "print (yer)"
   ]
  },
  {
   "cell_type": "code",
   "execution_count": null,
   "id": "9",
   "metadata": {},
   "outputs": [],
   "source": [
    "def exp(x, a, b):\n",
    "    return a *(1 - np.exp(x * b))\n",
    "\n",
    "pars, vals, ers, *other = LS_fit(x, y, yer, exp, a=1, b=1, disp=1)\n",
    "\n",
    "for i in range(len(pars)):\n",
    "    print(f\"Parameter {pars[i]}: {vals[i]:.3g} ± {ers[i]:.3g}\")\n",
    "\n",
    "c2r = other[2] / other[1]\n",
    "print(f\"Chi2/ndf: {c2r:.3g}\")"
   ]
  },
  {
   "cell_type": "code",
   "execution_count": null,
   "id": "10",
   "metadata": {},
   "outputs": [],
   "source": []
  },
  {
   "cell_type": "code",
   "execution_count": null,
   "id": "11",
   "metadata": {},
   "outputs": [],
   "source": [
    "t = np.linspace(54, 55.5, 100)\n",
    "plt.figure(figsize=(10, 6))\n",
    "plt.errorbar(x-vbr, y, yerr=yer, fmt='o', label='Data', color='blue')\n",
    "plt.plot(t-vbr, exp(np.array(t), *vals), label='Fit, $\\\\tilde{\\chi}^2$ = 1.4', color='red')\n",
    "plt.xlabel('Overvoltage [V]')\n",
    "plt.ylabel('Cross-talk Probability')\n",
    "plt.grid()\n",
    "plt.legend()\n",
    "plt.savefig(\"Cross_talk_fit.png\")\n",
    "plt.show()\n",
    "\n",
    "# Save the fit parameters to a file"
   ]
  },
  {
   "cell_type": "code",
   "execution_count": null,
   "id": "12",
   "metadata": {},
   "outputs": [],
   "source": [
    "def exp_squared (x, b, a):\n",
    "    return (1 - a *np.exp(-b*(x)**2 ))\n",
    "\n",
    "pars2, vals2, ers2, *other2 = LS_fit(x - vbr, y, yer, exp_squared, b=1, a = 1, disp=1)\n",
    "\n",
    "for i in range(len(pars2)):\n",
    "    print(f\"Parameter {pars2[i]}: {vals2[i]:.3g} ± {ers2[i]:.3g}\")\n",
    "\n",
    "c2r2 = other2[2] / other2[1]\n",
    "print(f\"Chi2/ndf: {c2r2:.3g}\")"
   ]
  },
  {
   "cell_type": "code",
   "execution_count": null,
   "id": "13",
   "metadata": {},
   "outputs": [],
   "source": [
    "print(vals2)\n",
    "\n",
    "\n",
    "t = np.linspace(54, 55.5, 100)\n",
    "plt.figure(figsize=(10, 6))\n",
    "plt.errorbar(x-vbr, y, yerr=yer, fmt='o', label='Dati sperimentali', color='blue')\n",
    "plt.plot(x - vbr, y, color = 'red' )\n",
    "#plt.plot(t-vbr, exp_squared(np.array(t - vbr), *vals2), label=fr'Fit, $\\tilde\\chi^2$ = {c2r2:.3g}', color='red')\n",
    "plt.xlabel('Overvoltage [V]')\n",
    "plt.ylabel('Cross-talk Probability')\n",
    "plt.grid()\n",
    "plt.legend(loc = 'upper left')\n",
    "plt.savefig(\"Cross_talk_andamento.png\")\n",
    "plt.show()"
   ]
  }
 ],
 "metadata": {
  "kernelspec": {
   "display_name": "Python 3",
   "language": "python",
   "name": "python3"
  },
  "language_info": {
   "codemirror_mode": {
    "name": "ipython",
    "version": 3
   },
   "file_extension": ".py",
   "mimetype": "text/x-python",
   "name": "python",
   "nbconvert_exporter": "python",
   "pygments_lexer": "ipython3",
   "version": "3.12.4"
  }
 },
 "nbformat": 4,
 "nbformat_minor": 5
}
