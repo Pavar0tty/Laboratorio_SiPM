{
 "cells": [
  {
   "cell_type": "code",
   "execution_count": null,
   "id": "0",
   "metadata": {},
   "outputs": [],
   "source": [
    "import pandas as pd\n",
    "from iminuit import Minuit \n",
    "from iminuit.cost import LeastSquares\n",
    "import numpy as np\n",
    "import matplotlib.pyplot as plt\n",
    "from scipy.stats import chi2\n",
    "from matplotlib.lines import Line2D\n",
    "\n",
    "import os\n",
    "while not os.getcwd().endswith('Laboratorio_SiPM'):\n",
    "    os.chdir('..')\n",
    "\n"
   ]
  },
  {
   "cell_type": "code",
   "execution_count": null,
   "id": "1",
   "metadata": {},
   "outputs": [],
   "source": [
    "def retta (x,a,b):\n",
    "    return (a*x + b)\n",
    "\n",
    "def sqrt(x, a, b):\n",
    "    return np.sqrt(a*x + b)"
   ]
  },
  {
   "cell_type": "code",
   "execution_count": null,
   "id": "2",
   "metadata": {},
   "outputs": [],
   "source": [
    "def read():\n",
    "    Z1 = pd.read_csv('Analisi\\Parte 1\\Analisi Freq_Vb\\F_Vb.CSV')\n",
    "    Y = []\n",
    "    S = []\n",
    "    for i in range(len(Z1.columns.values)):\n",
    "        if i != 0:\n",
    "            z = Z1.iloc[:, i]\n",
    "            y = float(np.mean(z))\n",
    "            Y.append(y)\n",
    "            s = float(np.std(z))\n",
    "            S.append(s)\n",
    "    return (Y, S)"
   ]
  },
  {
   "cell_type": "code",
   "execution_count": null,
   "id": "3",
   "metadata": {},
   "outputs": [],
   "source": [
    "def ax_x (S, Y, E):\n",
    "    X = [52.5, 53, 53.5, 53.8, 54, 54.3, 54.5, 54.8, 55, 55.3, 55.5, 55.8, 56]\n",
    "    E1 = []\n",
    "    X1 = []\n",
    "    Y1 = []\n",
    "    for i in range(len(X)):\n",
    "        if Y[i] > S:\n",
    "            X1.append(X[i])\n",
    "            Y1.append(Y[i])\n",
    "            E1.append(E[i])\n",
    "    return X1, Y1, E1"
   ]
  },
  {
   "cell_type": "code",
   "execution_count": null,
   "id": "4",
   "metadata": {},
   "outputs": [],
   "source": [
    "def graph(X, Y, S, a, b):\n",
    "    fig, ax = plt.subplots(nrows = 1, ncols = 1)\n",
    "    plt.plot(np.linspace(51, 56, 100000), sqrt(np.linspace(51, 56, 100000), a, b), label = 'Funzione di interpolazione')\n",
    "    ax.set_xlabel(\"Threshold[mV]\")\n",
    "    ax.set_ylabel(\"Frequency[kHz]\")\n",
    "    ax.scatter(X, Y, color = 'black', label = 'Dati sperimentali')\n",
    "    ax.errorbar(X, Y, S)\n",
    "    ax.legend()\n",
    "    plt.show()\n"
   ]
  },
  {
   "cell_type": "code",
   "execution_count": null,
   "id": "5",
   "metadata": {},
   "outputs": [],
   "source": [
    "def analisi_sqrt(X, Y, S):\n",
    "\n",
    "    L_S = LeastSquares(X, Y, S, sqrt)\n",
    "    my_minuit = Minuit (L_S, a = 40, b = 1000)  \n",
    "    my_minuit.migrad () \n",
    "    my_minuit.hesse ()   \n",
    "\n",
    "#validità\n",
    "    V = my_minuit.valid\n",
    "    print('Validità: ', V)\n",
    "    Q_squared = my_minuit.fval\n",
    "    print ('Q-squared: ', Q_squared)\n",
    "    N_dof = my_minuit.ndof\n",
    "    print ('DOF: ', N_dof)\n",
    "    p_v = 1 - chi2.cdf(Q_squared, N_dof)\n",
    "    print('P value: ', p_v )\n",
    "\n",
    "#valori dell'interpolazione\n",
    "    a_f = my_minuit.values[0]\n",
    "    b_f = my_minuit.values[1]\n",
    "\n",
    "#visualizzazione \n",
    "    display(my_minuit)\n",
    "    return (a_f, b_f)\n",
    "\n",
    "def analisi_retta(X,Y,S):\n",
    "    L_S = LeastSquares(X, Y, S, retta)\n",
    "    my_minuit = Minuit (L_S, a = 40, b = 500)  \n",
    "    my_minuit.migrad () \n",
    "    my_minuit.hesse ()   \n",
    "\n",
    "#validità\n",
    "    V = my_minuit.valid\n",
    "    print('Validità: ', V)\n",
    "    Q_squared = my_minuit.fval\n",
    "    print ('Q-squared: ', Q_squared)\n",
    "    N_dof = my_minuit.ndof\n",
    "    print ('DOF: ', N_dof)\n",
    "    p_v = 1 - chi2.cdf(Q_squared, N_dof)\n",
    "    print('P value: ', p_v )\n",
    "\n",
    "#valori dell'interpolazione\n",
    "    a_f = my_minuit.values[0]\n",
    "    b_f = my_minuit.values[1]\n",
    "\n",
    "#visualizzazione \n",
    "    display(my_minuit)\n",
    "    return (a_f, b_f, Q_squared/N_dof)"
   ]
  },
  {
   "cell_type": "code",
   "execution_count": null,
   "id": "6",
   "metadata": {},
   "outputs": [],
   "source": [
    "Y = read()\n",
    "X = ax_x(0.3, Y[0], Y[1])\n",
    "Z = analisi_sqrt(X[0], X[1], X[2])\n",
    "print('a = ', Z[0])\n",
    "print('b = ', Z[1])"
   ]
  },
  {
   "cell_type": "code",
   "execution_count": null,
   "id": "7",
   "metadata": {},
   "outputs": [],
   "source": [
    "print(Z[0], Z[1])\n",
    "graph(X[0], X[1], X[2], Z[0], Z[1])"
   ]
  },
  {
   "cell_type": "code",
   "execution_count": null,
   "id": "8",
   "metadata": {},
   "outputs": [],
   "source": [
    "X2 = ax_x(30, Y[0], Y[1])\n",
    "Z2 = analisi_retta(X2[0], X2[1], X2[2])\n",
    "print('a = ', Z2[0])\n",
    "print('b = ', Z2[1])"
   ]
  },
  {
   "cell_type": "code",
   "execution_count": null,
   "id": "9",
   "metadata": {},
   "outputs": [],
   "source": [
    "x = -Z2[1]/Z2[0]\n",
    "print('X = ', x)"
   ]
  },
  {
   "cell_type": "code",
   "execution_count": null,
   "id": "10",
   "metadata": {},
   "outputs": [],
   "source": [
    "def intercetta():\n",
    "    G = [[], []]\n",
    "    X = np.linspace(51, 52, 100000000)\n",
    "    for i in range(len(X)):\n",
    "        y = float(retta(X[i], Z2[0], Z2[1]))  # Use Z directly as a scalar\n",
    "        if y <= 0.0000001:\n",
    "             if  y >= -0.0000001:\n",
    "                G[0].append(X[i]) \n",
    "                G[1].append(y)\n",
    "    return G\n",
    "#F = intercetta()\n",
    "#print('Intercetta: ', F[0])  # Z is already a scalar"
   ]
  },
  {
   "cell_type": "code",
   "execution_count": null,
   "id": "11",
   "metadata": {},
   "outputs": [],
   "source": [
    "X3 = analisi_retta(X2[0], np.sqrt(X2[1]), X2[2])\n",
    "\n",
    "print('a = ', X3[0])\n",
    "print('b = ', X3[1])"
   ]
  },
  {
   "cell_type": "code",
   "execution_count": null,
   "id": "12",
   "metadata": {},
   "outputs": [],
   "source": [
    "x2 = -X3[1]/X3[0]\n",
    "print('X2 = ', x2)"
   ]
  },
  {
   "cell_type": "markdown",
   "id": "13",
   "metadata": {},
   "source": [
    "# Analisi V_br a seconda della soglia\n"
   ]
  },
  {
   "cell_type": "code",
   "execution_count": null,
   "id": "14",
   "metadata": {},
   "outputs": [],
   "source": [
    "def read_mean(file_path):\n",
    "    data = pd.read_excel(file_path)\n",
    "    mean_values = np.mean(data.iloc[:, 1])\n",
    "    std_values = np.std(data.iloc[:, 1])\n",
    "    return mean_values, std_values\n",
    "\n",
    "X = [52.75, 53, 53.25, 53.5, 53.75, 54, 54.25]"
   ]
  },
  {
   "cell_type": "code",
   "execution_count": null,
   "id": "15",
   "metadata": {},
   "outputs": [],
   "source": [
    "Y1 = read_mean('Dati\\Parte 1\\Frequency_Vbias\\TH3_VB52_75.xls')\n",
    "Y2 = read_mean('Dati\\Parte 1\\Frequency_Vbias\\TH3_VB53.xls')\n",
    "Y3 = read_mean('Dati\\Parte 1\\Frequency_Vbias\\TH3_VB53_25.xls')  \n",
    "Y4 = read_mean('Dati\\Parte 1\\Frequency_Vbias\\TH3VB35_5.xls')\n",
    "Y5 = pd.read_csv('Dati\\Parte 1\\Frequency_Vbias\\TH3_VB53_75.txt', sep = '\\t')\n",
    "Y5 = (Y5.iloc[:, 1].mean(), Y5.iloc[:, 1].std())\n",
    "Y6 = read_mean('Dati\\Parte 1\\Frequency_Vbias\\TH3_VB54.xls')\n",
    "Y7 = read_mean('Dati\\Parte 1\\Frequency_Vbias\\TH3_VB54_25.xls')\n",
    "\n",
    "V1 = [Y1[0], Y2[0], Y3[0], Y4[0], Y5[0], Y6[0], Y7[0]]\n",
    "S1 = [Y1[1], Y2[1], Y3[1], Y4[1], Y5[1], Y6[1], Y7[1]]\n",
    "\n",
    "A1 = analisi_retta(X, V1, S1)\n",
    "a1_err = 0.016\n",
    "b1_err = 0.9\n",
    "Zero1 = -A1[1]/A1[0]\n",
    "print('Zero = ', Zero1, ' +/- ', Zero1 * np.sqrt((a1_err/A1[0])**2 + (b1_err/A1[1])**2))\n",
    "print('a = ', A1[0], ' +/- ', a1_err)\n",
    "print('b = ', A1[1], ' +/- ', b1_err)\n",
    "print('Q_squared/N_dof = ', A1[2])\n"
   ]
  },
  {
   "cell_type": "code",
   "execution_count": null,
   "id": "16",
   "metadata": {},
   "outputs": [],
   "source": [
    "K1 = read_mean('Dati\\Parte 1\\Frequency_Vbias\\TH4_VB52_75.xls')\n",
    "K2 = pd.read_csv('Dati\\Parte 1\\Frequency_Vbias\\TH4_VB53.txt', sep = '\\t')\n",
    "K2 = (K2.iloc[:, 1].mean(), K2.iloc[:, 1].std())\n",
    "K3 = read_mean('Dati\\Parte 1\\Frequency_Vbias\\TH4_VB53_25.xls')\n",
    "K4 = read_mean('Dati\\Parte 1\\Frequency_Vbias\\TH4_VB53_5.xls')  \n",
    "K5 = read_mean('Dati\\Parte 1\\Frequency_Vbias\\TH4_VB53_75.xls')\n",
    "K6 = read_mean('Dati\\Parte 1\\Frequency_Vbias\\TH4_VB54.xls')\n",
    "K7 = read_mean('Dati\\Parte 1\\Frequency_Vbias\\TH4_VB54_25.xls')\n",
    "\n",
    "V2_full = [K1[0], K2[0], K3[0], K4[0], K5[0], K6[0], K7[0]]\n",
    "S2_full = [K1[1], K2[1], K3[1], K4[1], K5[1], K6[1], K7[1]]\n",
    "\n",
    "X2 = [53, 53.25, 53.5, 53.75, 54, 54.25]\n",
    "V2 = [ K2[0], K3[0], K4[0], K5[0], K6[0], K7[0]]\n",
    "S2 = [ K2[1], K3[1], K4[1], K5[1], K6[1], K7[1]]\n",
    "\n",
    "A2 = analisi_retta(X2, V2, S2)\n",
    "a2_err = 0.012\n",
    "b2_err = 0.6\n",
    "Zero2 = -A2[1]/A2[0]\n",
    "print('Zero = ', Zero2, ' +/- ', Zero2 * np.sqrt((a2_err/A2[0])**2 + (b2_err/A2[1])**2))\n",
    "print('a = ', A2[0], ' +/- ', a2_err)\n",
    "print('b = ', A2[1], ' +/- ', b2_err)\n",
    "print('Q_squared/N_dof = ', A2[2])"
   ]
  },
  {
   "cell_type": "code",
   "execution_count": null,
   "id": "17",
   "metadata": {},
   "outputs": [],
   "source": [
    "Z1 = read_mean('Dati\\Parte 1\\Frequency_Vbias\\TH5_VB52_75.xls')\n",
    "Z2 = read_mean('Dati\\Parte 1\\Frequency_Vbias\\TH5_VB53.xls')\n",
    "Z3 = read_mean('Dati\\Parte 1\\Frequency_Vbias\\TH5_VB53_25.xls')  \n",
    "Z4 = read_mean('Dati\\Parte 1\\Frequency_Vbias\\TH5_VB53_5.xls')\n",
    "Z5 = read_mean('Dati\\Parte 1\\Frequency_Vbias\\TH5_VB53_75.xls')\n",
    "Z6 = read_mean('Dati\\Parte 1\\Frequency_Vbias\\TH5_VB54.xls')\n",
    "Z7 = read_mean('Dati\\Parte 1\\Frequency_Vbias\\TH5_VB54_25.xls')\n",
    "\n",
    "\n",
    "V3 = [Z1[0], Z2[0], Z3[0], Z4[0], Z5[0], Z6[0], Z7[0]]\n",
    "S3 = [Z1[1], Z2[1], Z3[1], Z4[1], Z5[1], Z6[1], Z7[1]]\n",
    "\n",
    "X_redox = [53, 53.25, 53.5, 53.75, 54, 54.25]\n",
    "V3_redox = [Z2[0], Z3[0], Z4[0], Z5[0], Z6[0], Z7[0]]\n",
    "S3_redox = [Z2[1], Z3[1], Z4[1], Z5[1], Z6[1], Z7[1]]   \n",
    "\n",
    "A3 = analisi_retta(X_redox, V3_redox, S3_redox)\n",
    "a3_err = 0.021\n",
    "b3_err = 1.1\n",
    "Zero3 = -A3[1]/A3[0]\n",
    "print('Zero = ', Zero3, ' +/- ', Zero3 * np.sqrt((a3_err/A3[0])**2 + (b3_err/A3[1])**2))\n",
    "print('a = ', A3[0], ' +/- ', a3_err)\n",
    "print('b = ', A3[1], ' +/- ', b3_err)\n",
    "print('Q_squared/N_dof = ', A3[2])"
   ]
  },
  {
   "cell_type": "code",
   "execution_count": null,
   "id": "18",
   "metadata": {},
   "outputs": [],
   "source": [
    "assex = np.linspace(52.75, 54.25, 100000)\n",
    "assey1 = retta(assex, A1[0], A1[1]) \n",
    "assey2 = retta(assex, A2[0], A2[1])\n",
    "assey3 = retta(assex, A3[0], A3[1])\n",
    "fig, ax = plt.subplots(nrows = 1, ncols = 1)\n",
    "plt.Figure(figsize=(10, 6))\n",
    "plt.plot(assex, assey1, color = 'red', label = 'Retta interpolata per TH = 3mV')\n",
    "ax.scatter(X, V1, color = 'blue', label = 'Dati sperimentali TH = 3mV', s = 5)\n",
    "ax.errorbar(X, V1, S1, fmt = 'o', color = 'blue')\n",
    "ax.grid()\n",
    "ax.set_xlabel(\"V_Bias[V]\")\n",
    "ax.set_ylabel(\"Frequenza[kHz]\")\n",
    "ax.legend()\n",
    "plt.savefig('Analisi\\Parte 1\\Analisi Freq_Vb\\TH3.png', dpi = 300)\n",
    "plt.show()\n"
   ]
  },
  {
   "cell_type": "code",
   "execution_count": null,
   "id": "19",
   "metadata": {},
   "outputs": [],
   "source": [
    "plt.figure(figsize=(10, 6))\n",
    "fig, ax = plt.subplots(nrows = 1, ncols = 1)\n",
    "plt.plot(assex, assey2, color  = 'red', label = 'Retta interpolata per TH = 4mV')\n",
    "ax.scatter(X, V2_full, color = 'blue', label = 'Dati sperimentali TH = 4mV', s = 5)\n",
    "ax.errorbar(X, V2_full, S2_full, fmt = 'o', color = 'blue')\n",
    "ax.grid()\n",
    "ax.set_xlabel(\"V_Bias[V]\")\n",
    "ax.set_ylabel(\"Frequenza[kHz]\")\n",
    "ax.legend(handles=)\n",
    "plt.savefig('Analisi\\Parte 1\\Analisi Freq_Vb\\TH4.png', dpi = 300)\n",
    "plt.show()\n"
   ]
  },
  {
   "cell_type": "code",
   "execution_count": null,
   "id": "20",
   "metadata": {},
   "outputs": [],
   "source": [
    "plt.figure(figsize=(10, 6))\n",
    "fig, ax = plt.subplots(nrows = 1, ncols = 1)\n",
    "plt.plot(assex, assey3, color = 'red', label = 'Retta interpolata per TH = 5mV')\n",
    "ax.scatter(X, V3, color = 'blue', label = 'Dati sperimentali TH = 5mV', s = 5)\n",
    "ax.errorbar(X, V3, S3, fmt = 'o', color = 'blue')\n",
    "ax.grid()\n",
    "ax.set_xlabel(\"V_Bias[V]\")\n",
    "ax.set_ylabel(\"Frequenza[kHz]\")\n",
    "ax.legend()\n",
    "plt.savefig('Analisi\\Parte 1\\Analisi Freq_Vb\\TH5.png', dpi = 300)\n",
    "plt.show()\n"
   ]
  },
  {
   "cell_type": "code",
   "execution_count": null,
   "id": "21",
   "metadata": {},
   "outputs": [],
   "source": [
    "assex = np.linspace(52.75, 54.25, 100000)\n",
    "assey1 = retta(assex, A1[0], A1[1]) \n",
    "assey2 = retta(assex, A2[0], A2[1])\n",
    "assey3 = retta(assex, A3[0], A3[1])\n",
    "fig, ax = plt.subplots(nrows = 1, ncols = 1)\n",
    "plt.figure(figsize=(10, 6))\n",
    "\n",
    "legend_elements = [\n",
    "    Line2D([0], [0], color='red', lw=2, label = 'Fit, $\\tilde\\chi^2$ =' {c2r_B_p_C:.3g})\n",
    "\n",
    "plt.plot(assex, assey1, color = 'red', label = 'Retta interpolata per TH = 3mV')\n",
    "ax.scatter(X, V1, color = 'blue', label = 'Dati sperimentali TH = 3mV', s = 5)\n",
    "ax.errorbar(X, V1, S1, fmt = 'o', color = 'blue')\n",
    "ax.grid()\n",
    "ax.set_xlabel(\"V_Bias[V]\")\n",
    "ax.set_ylabel(\"Frequenza[kHz]\")\n",
    "ax.legend()\n",
    "plt.savefig('Analisi\\Parte 1\\Analisi Freq_Vb\\TH3.png', dpi = 300)\n",
    "plt.show()"
   ]
  }
 ],
 "metadata": {
  "kernelspec": {
   "display_name": "Python 3",
   "language": "python",
   "name": "python3"
  },
  "language_info": {
   "codemirror_mode": {
    "name": "ipython",
    "version": 3
   },
   "file_extension": ".py",
   "mimetype": "text/x-python",
   "name": "python",
   "nbconvert_exporter": "python",
   "pygments_lexer": "ipython3",
   "version": "3.11.1"
  }
 },
 "nbformat": 4,
 "nbformat_minor": 5
}
