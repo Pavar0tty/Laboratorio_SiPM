{
 "cells": [
  {
   "cell_type": "markdown",
   "id": "0",
   "metadata": {},
   "source": [
    "# \"Analisi\" dei dati muonici"
   ]
  },
  {
   "cell_type": "code",
   "execution_count": null,
   "id": "1",
   "metadata": {},
   "outputs": [],
   "source": [
    "import numpy as np\n",
    "import pandas as pd\n",
    "import matplotlib.pyplot as plt\n",
    "\n",
    "import os\n",
    "while not os.getcwd().endswith('Laboratorio_SiPM'):\n",
    "    os.chdir('..')\n",
    "\n",
    "import sys\n",
    "sys.path.append('Config')\n",
    "from lablib import *"
   ]
  },
  {
   "cell_type": "markdown",
   "id": "2",
   "metadata": {},
   "source": [
    "## Spettro"
   ]
  },
  {
   "cell_type": "code",
   "execution_count": null,
   "id": "3",
   "metadata": {},
   "outputs": [],
   "source": [
    "root_path = 'Dati/Parte 2/Muoni'\n",
    "spettro = read_corretto(root_path + '/1ora.txt')\n",
    "\n",
    "# Dimezza il numero di bin raggruppando ogni 2 righe\n",
    "spettro_half_bins = spettro.groupby(spettro.index // 4).agg({'ADC': 'mean', 'Counts': 'sum'}).reset_index(drop=True)\n",
    "spettro_ = crop_df(spettro_half_bins, 10, 1)\n",
    "\n",
    "range = len(spettro_['ADC']) - 50\n",
    "\n",
    "plt.figure(figsize=(10, 6))\n",
    "plt.plot(spettro_['ADC'][:range], spettro_['Counts'][:range], label='Conteggi', color='blue')\n",
    "plt.xlabel('ADC channel')\n",
    "plt.ylabel('Counts')\n",
    "plt.grid(linestyle='--', linewidth=0.5, alpha=0.7)\n",
    "plt.legend()\n",
    "plt.show()"
   ]
  },
  {
   "cell_type": "markdown",
   "id": "4",
   "metadata": {},
   "source": [
    "## Tentativo di fit con funzione di landau"
   ]
  },
  {
   "cell_type": "code",
   "execution_count": null,
   "id": "5",
   "metadata": {},
   "outputs": [],
   "source": [
    "errs = assign_errors(spettro_, alt=1)\n",
    "\n",
    "def landau_pdf(x, m, e, s):\n",
    "    # Approximate Landau using a shift and scale from a fixed base function\n",
    "    # A rough approximation using a shifted exponential for demonstration\n",
    "    xi = (x - m) / e\n",
    "    return s*np.exp(-0.5 * (xi + np.exp(-xi)))\n",
    "\n",
    "par, val, err, *oth = LS_fit(spettro_['ADC'][:range], spettro_['Counts'][:range], errs[:range], landau_pdf, m=1500, e=10, s=80)"
   ]
  },
  {
   "cell_type": "markdown",
   "id": "6",
   "metadata": {},
   "source": [
    "## Staircase"
   ]
  },
  {
   "cell_type": "code",
   "execution_count": null,
   "id": "7",
   "metadata": {},
   "outputs": [],
   "source": [
    "staircase = pd.read_csv(root_path + '/staircase.txt', sep='\t').dropna()\n",
    "\n",
    "staircase.loc[4, 'Frequency_d'] = (staircase['Frequency_d'][3] - staircase['Frequency_d'][5]) / 2.5"
   ]
  },
  {
   "cell_type": "code",
   "execution_count": null,
   "id": "8",
   "metadata": {},
   "outputs": [],
   "source": [
    "plt.figure(figsize=(10, 6))\n",
    "\n",
    "plt.plot(staircase['Threshold_d'], staircase['Frequency_d'], label='Fondo', color='red')\n",
    "plt.plot(staircase['Threshold_s'], staircase['Frequency_s'], label='Segnale', color='blue')\n",
    "plt.gca().invert_xaxis()\n",
    "\n",
    "plt.yscale('log')\n",
    "plt.xlabel('Soglia (mV)')\n",
    "plt.ylabel('Frequenza (KHz)')\n",
    "plt.legend()\n",
    "plt.grid(linestyle='--', linewidth=0.5, alpha=0.7)\n",
    "\n",
    "plt.xticks(np.arange(int(staircase['Threshold_d'].min()), int(staircase['Threshold_d'].max()) + 1, 1))\n",
    "plt.show()"
   ]
  }
 ],
 "metadata": {
  "kernelspec": {
   "display_name": "Python 3",
   "language": "python",
   "name": "python3"
  },
  "language_info": {
   "codemirror_mode": {
    "name": "ipython",
    "version": 3
   },
   "file_extension": ".py",
   "mimetype": "text/x-python",
   "name": "python",
   "nbconvert_exporter": "python",
   "pygments_lexer": "ipython3",
   "version": "3.11.1"
  }
 },
 "nbformat": 4,
 "nbformat_minor": 5
}
