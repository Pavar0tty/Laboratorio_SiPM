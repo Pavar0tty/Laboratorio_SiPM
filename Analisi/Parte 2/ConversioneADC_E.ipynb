{
 "cells": [
  {
   "cell_type": "code",
   "execution_count": 28,
   "id": "97a58cb8",
   "metadata": {},
   "outputs": [],
   "source": [
    "import numpy as np\n",
    "import pandas as pd\n",
    "import matplotlib.pyplot as plt\n",
    "\n",
    "import os\n",
    "while not os.getcwd().endswith('Laboratorio_SiPM'):\n",
    "    os.chdir('..')\n",
    "\n",
    "import sys\n",
    "sys.path.append('Config')\n",
    "from lablib import *"
   ]
  },
  {
   "cell_type": "code",
   "execution_count": 29,
   "id": "90a5e76f",
   "metadata": {},
   "outputs": [],
   "source": [
    "def CONV(C, Cristallo):\n",
    "\n",
    "    ''' prende in input gli ADC channel tramite il parametro C e il tipo di cristallo'''\n",
    "\n",
    "    ADC = (2/50) * (1/2**12) * (4e-9)  # Conversion factor from ADC channel to charge in C\n",
    "\n",
    "    if Cristallo == 'BGO':\n",
    "        return - 14400/(0.4*8200) *np.log(1 - (ADC * C)/(14400*1.6e-19*0.40*1.7e6))\n",
    "    \n",
    "    if Cristallo == 'LYSO':\n",
    "        return - 14400/(0.4*27000) *np.log(1 - (ADC * C)/(14400*1.6e-19*0.40*1.7e6))\n",
    "\n",
    "    if Cristallo == 'CSI':\n",
    "        return - 14400/(0.4*47000) *np.log(1 - (ADC * C)/(14400*1.6e-19*0.40*1.7e6))"
   ]
  },
  {
   "cell_type": "code",
   "execution_count": 30,
   "id": "527807cb",
   "metadata": {},
   "outputs": [
    {
     "name": "stdout",
     "output_type": "stream",
     "text": [
      "LCE BGO: 0.7168925680216334\n",
      "LCE LYSO: 0.7857741844769716\n",
      "LCE CSI: 1.3314250067300328\n"
     ]
    }
   ],
   "source": [
    "mu_BGO = 3210.8824045897964\n",
    "E1 =CONV(mu_BGO, 'BGO')\n",
    "LCE_BGO = E1/0.511\n",
    "print('LCE BGO:', LCE_BGO)\n",
    "\n",
    "mu_LYSO = 10429.360476534184\n",
    "E2 = CONV(mu_LYSO, 'LYSO')\n",
    "LCE_LYSO = E2/0.511\n",
    "print('LCE LYSO:', LCE_LYSO)\n",
    "\n",
    "mu_CSI = 23608.51324894554\n",
    "E3 = CONV(mu_CSI, 'CSI')\n",
    "LCE_CSI = E3/0.511\n",
    "print('LCE CSI:', LCE_CSI)"
   ]
  }
 ],
 "metadata": {
  "kernelspec": {
   "display_name": "Python 3",
   "language": "python",
   "name": "python3"
  },
  "language_info": {
   "codemirror_mode": {
    "name": "ipython",
    "version": 3
   },
   "file_extension": ".py",
   "mimetype": "text/x-python",
   "name": "python",
   "nbconvert_exporter": "python",
   "pygments_lexer": "ipython3",
   "version": "3.12.4"
  }
 },
 "nbformat": 4,
 "nbformat_minor": 5
}
