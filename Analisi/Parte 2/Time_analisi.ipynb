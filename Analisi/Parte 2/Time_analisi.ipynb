{
 "cells": [
  {
   "cell_type": "code",
   "execution_count": null,
   "id": "0",
   "metadata": {},
   "outputs": [],
   "source": [
    "import numpy as np\n",
    "import pandas as pd\n",
    "import matplotlib.pyplot as plt\n",
    "\n",
    "import os\n",
    "while not os.getcwd().endswith('Laboratorio_SiPM'):\n",
    "    os.chdir('..')\n",
    "\n",
    "import sys\n",
    "sys.path.append('Config')\n",
    "from lablib import *"
   ]
  },
  {
   "cell_type": "markdown",
   "id": "1",
   "metadata": {},
   "source": [
    "### Funzioni utili"
   ]
  },
  {
   "cell_type": "code",
   "execution_count": null,
   "id": "2",
   "metadata": {},
   "outputs": [],
   "source": [
    "root_path = r'Dati/Parte 2/Caratterizzazione_impulso/'\n",
    "skip = 18\n",
    "errore_medio = 0.015 / np.sqrt(12)  \n",
    "\n",
    "def read_data(filename, titles = ['Time', 'V']):\n",
    "    df = read_corretto(root_path + filename, skip, titles)\n",
    "\n",
    "    # Sostituire tutte le istanze di \",\" con \"\" nelle colonne: 'V', 'Time'\n",
    "    df['V'] = df['V'].str.replace(\",\", \"\", case=False, regex=False)\n",
    "    df['Time'] = df['Time'].str.replace(\",\", \"\", case=False, regex=False)\n",
    "\n",
    "    # Converte le colonne in float\n",
    "    df = df.astype(float)\n",
    "\n",
    "    return df\n",
    "\n",
    "def _crop_df(df, N, thr):\n",
    "    df = crop_df(df, N, thr)\n",
    "    df.index = np.arange(len(df))\n",
    "    return df\n",
    "\n",
    "\n",
    "def quick_plot(df):\n",
    "    plt.plot(df['Time'], df['V'])\n",
    "    plt.xlabel('Time')\n",
    "    plt.ylabel('V')\n",
    "    plt.title('Signal')\n",
    "    plt.show()\n",
    "\n",
    "def find_max(df):\n",
    "    max_index = df['V'].idxmax()\n",
    "    max_value = df['V'][max_index]\n",
    "\n",
    "    return max_index, max_value\n",
    "\n",
    "def exp_dec(x, a, b, c):\n",
    "    return a * np.exp(-b * x) + c\n",
    "\n",
    "def exp_cre(x, a, b, c):\n",
    "    return a * (1 - np.exp(-b * x)) + c\n",
    "\n",
    "def rise_fall(df):\n",
    "    max_index, _ = find_max(df)\n",
    "\n",
    "    rise_time = df['Time'][:max_index]\n",
    "    fall_time = df['Time'][max_index:]\n",
    "    rise_voltage = df['V'][:max_index]\n",
    "    fall_voltage = df['V'][max_index:]\n",
    "\n",
    "    rise = pd.DataFrame({'Time': rise_time, 'V': rise_voltage})\n",
    "    fall = pd.DataFrame({'Time': fall_time, 'V': fall_voltage})\n",
    "    return rise, fall\n",
    "\n"
   ]
  },
  {
   "cell_type": "markdown",
   "id": "3",
   "metadata": {},
   "source": [
    "## BGO"
   ]
  },
  {
   "cell_type": "markdown",
   "id": "4",
   "metadata": {},
   "source": [
    "### Na"
   ]
  },
  {
   "cell_type": "code",
   "execution_count": null,
   "id": "5",
   "metadata": {},
   "outputs": [],
   "source": [
    "bgo_na = pd.read_csv(root_path + 'BGO_Na22.CSV')\n",
    "bgo_na = _crop_df(bgo_na, 10, .015)\n",
    "\n",
    "bgo_na_rise, bgo_na_fall = rise_fall(bgo_na)\n",
    "bgo_na_ers1 = [errore_medio] * len(bgo_na_rise)\n",
    "bgo_na_ers2 = [errore_medio] * len(bgo_na_fall)\n",
    "\n",
    "plt.plot(bgo_na_rise['Time'], bgo_na_rise['V'], label='Rise')\n",
    "plt.plot(bgo_na_fall['Time'], bgo_na_fall['V'], label='Fall')\n",
    "plt.show()"
   ]
  },
  {
   "cell_type": "code",
   "execution_count": null,
   "id": "6",
   "metadata": {},
   "outputs": [],
   "source": [
    "pars1, vals1, ers1, *other1 = LS_fit(bgo_na_rise['Time'], bgo_na_rise['V'], bgo_na_ers1, exp_cre, \n",
    "                                            #limits = [['a', (0, 1)], ['b', (10_0000, None)]],\n",
    "                                            a=.0035, b=21e6, c=0) # era solo un problema di inizializzazione"
   ]
  },
  {
   "cell_type": "code",
   "execution_count": null,
   "id": "7",
   "metadata": {},
   "outputs": [],
   "source": [
    "pars2, vals2, ers2, *other2 = LS_fit(bgo_na_fall['Time'], bgo_na_fall['V'], bgo_na_ers2, exp_dec, a=1, b=0.01, c=0)"
   ]
  },
  {
   "cell_type": "code",
   "execution_count": null,
   "id": "8",
   "metadata": {},
   "outputs": [],
   "source": [
    "tau_bgo_na_rise = 1 / vals1[1] * 1e9\n",
    "err_bgo_na_rise = 1 / vals1[1]**2 * ers1[1] * 1e9\n",
    "\n",
    "tau_bgo_na_fall = 1 / vals2[1] * 1e9\n",
    "err_bgo_na_fall = 1 / vals2[1]**2 * ers2[1] * 1e9"
   ]
  },
  {
   "cell_type": "markdown",
   "id": "9",
   "metadata": {},
   "source": [
    "### Co"
   ]
  },
  {
   "cell_type": "code",
   "execution_count": null,
   "id": "10",
   "metadata": {},
   "outputs": [],
   "source": [
    "bgo_co = pd.read_csv(root_path + 'BGO_Co60.CSV')\n",
    "bgo_co = _crop_df(bgo_co, 10, .01)\n",
    "\n",
    "bgo_co_rise, bgo_co_fall = rise_fall(bgo_co)\n",
    "bgo_co_ers1 = [errore_medio] * len(bgo_co_rise)\n",
    "bgo_co_ers2 = [errore_medio] * len(bgo_co_fall)\n",
    "\n",
    "plt.plot(bgo_co_rise['Time'], bgo_co_rise['V'], label='Rise')\n",
    "plt.plot(bgo_co_fall['Time'], bgo_co_fall['V'], label='Fall')\n",
    "plt.show()"
   ]
  },
  {
   "cell_type": "code",
   "execution_count": null,
   "id": "11",
   "metadata": {},
   "outputs": [],
   "source": [
    "pars3, vals3, ers3, *other3 = LS_fit(bgo_co_rise['Time'], bgo_co_rise['V'], bgo_co_ers1, exp_cre,\n",
    "                                            a=.0035, b=21e6, c=0)\n",
    "pars4, vals4, ers4, *other4 = LS_fit(bgo_co_fall['Time'], bgo_co_fall['V'], bgo_co_ers2, exp_dec,\n",
    "                                            a=1, b=0.01, c=0)"
   ]
  },
  {
   "cell_type": "code",
   "execution_count": null,
   "id": "12",
   "metadata": {},
   "outputs": [],
   "source": [
    "tau_bgo_co_rise = 1 / vals3[1] * 1e9\n",
    "err_bgo_co_rise = 1 / vals3[1]**2 * ers3[1] * 1e9\n",
    "\n",
    "tau_bgo_co_fall = 1 / vals4[1] * 1e9\n",
    "err_bgo_co_fall = 1 / vals4[1]**2 * ers4[1] * 1e9"
   ]
  },
  {
   "cell_type": "markdown",
   "id": "13",
   "metadata": {},
   "source": [
    "## CSI"
   ]
  },
  {
   "cell_type": "markdown",
   "id": "14",
   "metadata": {},
   "source": [
    "### Na"
   ]
  },
  {
   "cell_type": "code",
   "execution_count": null,
   "id": "15",
   "metadata": {},
   "outputs": [],
   "source": [
    "csi_na = pd.read_csv(root_path + 'CSI_Na22.CSV')\n",
    "csi_na = _crop_df(csi_na, 10, .03)\n",
    "\n",
    "csi_na_rise, csi_na_fall = rise_fall(csi_na)\n",
    "csi_na_ers1 = [errore_medio] * len(csi_na_rise)\n",
    "csi_na_ers2 = [errore_medio] * len(csi_na_fall)\n",
    "\n",
    "plt.plot(csi_na_rise['Time'], csi_na_rise['V'], label='Rise')\n",
    "plt.plot(csi_na_fall['Time'], csi_na_fall['V'], label='Fall')\n",
    "plt.show()"
   ]
  },
  {
   "cell_type": "code",
   "execution_count": null,
   "id": "16",
   "metadata": {},
   "outputs": [],
   "source": [
    "pars5, vals5, ers5, *other5 = LS_fit(csi_na_rise['Time'], csi_na_rise['V'], csi_na_ers1, exp_cre,\n",
    "                                            a=.0035, b=21e6, c=0)\n",
    "pars6, vals6, ers6, *other6 = LS_fit(csi_na_fall['Time'], csi_na_fall['V'], csi_na_ers2, exp_dec,\n",
    "                                            a=1, b=0.01, c=0)"
   ]
  },
  {
   "cell_type": "code",
   "execution_count": null,
   "id": "17",
   "metadata": {},
   "outputs": [],
   "source": [
    "tau_csi_na_rise = 1 / vals5[1] * 1e9\n",
    "err_csi_na_rise = 1 / vals5[1]**2 * ers5[1] * 1e9\n",
    "\n",
    "tau_csi_na_fall = 1 / vals6[1] * 1e9\n",
    "err_csi_na_fall = 1 / vals6[1]**2 * ers6[1] * 1e9"
   ]
  },
  {
   "cell_type": "markdown",
   "id": "18",
   "metadata": {},
   "source": [
    "### Co"
   ]
  },
  {
   "cell_type": "code",
   "execution_count": null,
   "id": "19",
   "metadata": {},
   "outputs": [],
   "source": [
    "csi_co = pd.read_csv(root_path+'CSI_Co60.CSV')\n",
    "csi_co = _crop_df(csi_co, 10, .03)\n",
    "\n",
    "csi_co_rise, csi_co_fall = rise_fall(csi_co)\n",
    "csi_co_ers1 = [errore_medio] * len(csi_co_rise)\n",
    "csi_co_ers2 = [errore_medio] * len(csi_co_fall)\n",
    "\n",
    "plt.plot(csi_co_rise['Time'], csi_co_rise['V'], label='Rise')\n",
    "plt.plot(csi_co_fall['Time'], csi_co_fall['V'], label='Fall')\n",
    "plt.show()"
   ]
  },
  {
   "cell_type": "code",
   "execution_count": null,
   "id": "20",
   "metadata": {},
   "outputs": [],
   "source": [
    "pars7, vals7, ers7, *other7 = LS_fit(csi_co_rise['Time'], csi_co_rise['V'], csi_co_ers1, exp_cre,\n",
    "                                            a=.0035, b=21e6, c=0)\n",
    "pars8, vals8, ers8, *other8 = LS_fit(csi_co_fall['Time'], csi_co_fall['V'], csi_co_ers2, exp_dec,\n",
    "                                            a=1, b=0.01, c=0)"
   ]
  },
  {
   "cell_type": "code",
   "execution_count": null,
   "id": "21",
   "metadata": {},
   "outputs": [],
   "source": [
    "tau_csi_co_rise = 1 / vals7[1] * 1e9\n",
    "err_csi_co_rise = 1 / vals7[1]**2 * ers7[1] * 1e9\n",
    "\n",
    "tau_csi_co_fall = 1 / vals8[1] * 1e9\n",
    "err_csi_co_fall = 1 / vals8[1]**2 * ers8[1] * 1e9"
   ]
  },
  {
   "cell_type": "markdown",
   "id": "22",
   "metadata": {},
   "source": [
    "## Confronto"
   ]
  },
  {
   "cell_type": "markdown",
   "id": "23",
   "metadata": {},
   "source": [
    "__Confronto tempi di discesa__"
   ]
  },
  {
   "cell_type": "code",
   "execution_count": null,
   "id": "24",
   "metadata": {},
   "outputs": [],
   "source": [
    "# Discesa\n",
    "\n",
    "print(f'Fall BGO NA: {tau_bgo_na_fall:.2f} ± {err_bgo_na_fall:.2f} ns')\n",
    "print(f'Fall BGO CO: {tau_bgo_co_fall:.2f} ± {err_bgo_co_fall:.2f} ns')\n",
    "print('')\n",
    "print(f'Fall CSI NA: {tau_csi_na_fall:.2f} ± {err_csi_na_fall:.2f} ns')\n",
    "print(f'Fall CSI CO: {tau_csi_co_fall:.2f} ± {err_csi_co_fall:.2f} ns')"
   ]
  },
  {
   "cell_type": "code",
   "execution_count": null,
   "id": "25",
   "metadata": {},
   "outputs": [],
   "source": [
    "print(f'Compatibilita con BGO NA e CO: {TestCompatibilita(tau_bgo_na_fall, err_bgo_na_fall, tau_bgo_co_fall, err_bgo_co_fall):.3g}')\n",
    "print(f'Compatibilita con CSI NA e CO: {TestCompatibilita(tau_csi_na_fall, err_csi_na_fall, tau_csi_co_fall, err_csi_co_fall):.3g}')"
   ]
  },
  {
   "cell_type": "markdown",
   "id": "26",
   "metadata": {},
   "source": [
    "__Confronto tempi di salita__"
   ]
  },
  {
   "cell_type": "code",
   "execution_count": null,
   "id": "27",
   "metadata": {},
   "outputs": [],
   "source": [
    "# Salita\n",
    "\n",
    "print(f'Rise BGO NA: {tau_bgo_na_rise:.2f} ± {err_bgo_na_rise:.2f} ns')\n",
    "print(f'Rise BGO CO: {tau_bgo_co_rise:.2f} ± {err_bgo_co_rise:.2f} ns')\n",
    "print('')\n",
    "print(f'Rise CSI NA: {tau_csi_na_rise:.2f} ± {err_csi_na_rise:.2f} ns')\n",
    "print(f'Rise CSI CO: {tau_csi_co_rise:.2f} ± {err_csi_co_rise:.2f} ns')"
   ]
  },
  {
   "cell_type": "code",
   "execution_count": null,
   "id": "28",
   "metadata": {},
   "outputs": [],
   "source": [
    "print(f'Compatibilita con BGO NA e CO: {TestCompatibilita(tau_bgo_na_rise, err_bgo_na_rise, tau_bgo_co_rise, err_bgo_co_rise):.3g}')\n",
    "print(f'Compatibilita con CSI NA e CO: {TestCompatibilita(tau_csi_na_rise, err_csi_na_rise, tau_csi_co_rise, err_csi_co_rise):.3g}')"
   ]
  },
  {
   "cell_type": "markdown",
   "id": "29",
   "metadata": {},
   "source": [
    "## Lyso"
   ]
  },
  {
   "cell_type": "code",
   "execution_count": null,
   "id": "30",
   "metadata": {},
   "outputs": [],
   "source": [
    "lyso = read_data('LySO/dat.CSV')\n",
    "lyso = _crop_df(lyso, 10, .002)\n",
    "lyso_rise, lyso_fall = rise_fall(lyso)\n",
    "\n",
    "lyso_ers_rise = [.002] * len(lyso_rise['Time'])\n",
    "lyso_ers_fall = [.002] * len(lyso_fall['Time'])\n",
    "\n",
    "plt.plot(lyso_rise['Time'], lyso_rise['V'], label='Rise')\n",
    "plt.plot(lyso_fall['Time'], lyso_fall['V'], label='Fall')\n",
    "plt.legend()\n",
    "plt.show()"
   ]
  },
  {
   "cell_type": "code",
   "execution_count": null,
   "id": "31",
   "metadata": {},
   "outputs": [],
   "source": [
    "pars_lyso_rise, vals_lyso_rise, ers_lyso_rise, *other_lyso_rise = LS_fit(lyso_rise['Time'], lyso_rise['V'], lyso_ers_rise, exp_cre,\n",
    "                                            a=.0035, b=21e6, c=0)\n",
    "\n",
    "pars_lyso_fall, vals_lyso_fall, ers_lyso_fall, *other_lyso_fall = LS_fit(lyso_fall['Time'], lyso_fall['V'], lyso_ers_fall, exp_dec,\n",
    "                                            a=1, b=0.01, c=0)"
   ]
  },
  {
   "cell_type": "code",
   "execution_count": null,
   "id": "32",
   "metadata": {},
   "outputs": [],
   "source": [
    "tau_lyso_rise = 1 / vals_lyso_rise[1] * 1e9\n",
    "err_lyso_rise = 1 / vals_lyso_rise[1]**2 * ers_lyso_rise[1] * 1e9\n",
    "\n",
    "tau_lyso_fall = 1 / vals_lyso_fall[1] * 1e9\n",
    "err_lyso_fall = 1 / vals_lyso_fall[1]**2 * ers_lyso_fall[1] * 1e9\n",
    "\n",
    "print(f'Rise LySO: {tau_lyso_rise:.2f} ± {err_lyso_rise:.2f} ns')\n",
    "print(f'Fall LySO: {tau_lyso_fall:.2f} ± {err_lyso_fall:.2f} ns')"
   ]
  },
  {
   "cell_type": "markdown",
   "id": "33",
   "metadata": {},
   "source": [
    "# Parte finale per relazione"
   ]
  },
  {
   "cell_type": "markdown",
   "id": "34",
   "metadata": {},
   "source": [
    "__Print finale per facilitare letture__\n",
    "\n",
    "Usando solo il sodio perche' ci si fida di piu'"
   ]
  },
  {
   "cell_type": "code",
   "execution_count": null,
   "id": "35",
   "metadata": {},
   "outputs": [],
   "source": [
    "print(f'BGO Rise and Fall: {tau_bgo_na_rise:.2f} ± {err_bgo_na_rise:.2f} ns, {tau_bgo_na_fall:.2f} ± {err_bgo_na_fall:.2f} ns')\n",
    "print(f'Rapporto Rise/Fall BGO: {tau_bgo_na_rise / tau_bgo_na_fall:.2f}')\n",
    "print('--------')\n",
    "print(f'CSI Rise and Fall: {tau_csi_na_rise:.2f} ± {err_csi_na_rise:.2f} ns, {tau_csi_na_fall:.2f} ± {err_csi_na_fall:.2f} ns')\n",
    "print(f'Rapporto Rise/Fall CSI: {tau_csi_na_rise / tau_csi_na_fall:.2f}')\n",
    "print('--------')\n",
    "print(f'Lyso Rise and Fall: {tau_lyso_rise:.2f} ± {err_lyso_rise:.2f} ns, {tau_lyso_fall:.2f} ± {err_lyso_fall:.2f} ns')\n",
    "print(f'Rapporto Rise/Fall LySO: {tau_lyso_rise / tau_lyso_fall:.2f}')"
   ]
  },
  {
   "cell_type": "code",
   "execution_count": null,
   "id": "36",
   "metadata": {},
   "outputs": [],
   "source": [
    "# plot per relazione\n",
    "\n",
    "plt.figure(figsize=(8, 6))\n",
    "plt.plot(bgo_co_rise['Time'], bgo_co_rise['V'], label='Rise', color='blue')\n",
    "plt.plot(bgo_co_fall['Time'], bgo_co_fall['V'], label='Fall', color='red')\n",
    "plt.xlabel('Time (s)')\n",
    "plt.ylabel('Tensione (V)')\n",
    "plt.grid(linestyle='--', linewidth=0.5, alpha=0.7)\n",
    "plt.legend()\n",
    "plt.show()"
   ]
  },
  {
   "cell_type": "markdown",
   "id": "37",
   "metadata": {},
   "source": [
    "__Commento sugli errori__\n",
    "\n",
    "L'incertezza è stata presa all'oscilloscopio con la persistenza attiva e vedendo la larghezza della banda"
   ]
  }
 ],
 "metadata": {
  "kernelspec": {
   "display_name": "Python 3",
   "language": "python",
   "name": "python3"
  },
  "language_info": {
   "codemirror_mode": {
    "name": "ipython",
    "version": 3
   },
   "file_extension": ".py",
   "mimetype": "text/x-python",
   "name": "python",
   "nbconvert_exporter": "python",
   "pygments_lexer": "ipython3",
   "version": "3.12.4"
  }
 },
 "nbformat": 4,
 "nbformat_minor": 5
}
