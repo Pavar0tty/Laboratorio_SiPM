{
 "cells": [
  {
   "cell_type": "code",
   "execution_count": null,
   "id": "0",
   "metadata": {},
   "outputs": [],
   "source": [
    "import numpy as np\n",
    "import pandas as pd\n",
    "import matplotlib.pyplot as plt\n",
    "import math\n",
    "from scipy.stats import chi2, norm, cauchy\n",
    "from iminuit import Minuit\n",
    "from iminuit.cost import LeastSquares\n",
    "# Cambiare directory per spostarsi nella cartella principale\n",
    "import os\n",
    "while not os.getcwd().endswith('Laboratorio_SiPM'):\n",
    "    os.chdir('..')\n",
    "\n",
    "#importo libreria\n",
    "import sys\n",
    "sys.path.append('Config')\n",
    "from lablib import *\n"
   ]
  },
  {
   "cell_type": "code",
   "execution_count": null,
   "id": "1",
   "metadata": {},
   "outputs": [],
   "source": [
    "# #definisco le varie funzioni\n",
    "# def gauss(x, mu, sigma, a):\n",
    "#     return a * np.exp(-0.5 * ((x - mu) / sigma) ** 2)\n",
    "\n",
    "# def gauss_cost(x, mu, sigma, a, cost):\n",
    "#     return gauss(x, mu, sigma, a) + cost\n",
    "\n",
    "# def gauss_pol2(x, mu, sigma, a, b, c, cost):\n",
    "#     return gauss(x, mu, sigma, a) + b*x + c * x**2 + cost\n",
    "\n",
    "# def gauss_exp(x, mu, sigma, a, b):\n",
    "#     return gauss(x, mu, sigma, a) + b * np.exp(-x) \n",
    "\n",
    "# def gauss_pol3 (x, mu, sigma, a, b, c, cost, d):\n",
    "#     return gauss_pol2(x, mu, sigma, a, b, c, cost) + d* x**3"
   ]
  },
  {
   "cell_type": "markdown",
   "id": "2",
   "metadata": {},
   "source": [
    "# SODIO"
   ]
  },
  {
   "cell_type": "code",
   "execution_count": null,
   "id": "3",
   "metadata": {},
   "outputs": [],
   "source": [
    "#prendo i dati\n",
    "df = pd.read_csv('Dati/Parte 2/BGO/Sodio_55.5V.txt', delim_whitespace= True, skiprows = 65, header=None, encoding= 'ISO-8859-1', names= ['ADC', 'Counts'])\n",
    "df_bkg = pd.read_csv ('Dati/Parte 2/BGO/Bkg_55.5V.txt', delim_whitespace = True, header = None, skiprows = 65, encoding = 'ISO-8859-1', names = ['ADC', 'Counts'])\n",
    "fig, ax = plt.subplots(figsize = (20,6))\n",
    "plt.plot(df['ADC'][:120], df['Counts'][:120], label = 'Spettro con sorgente di sodio', color = 'blue', linewidth = 0.8)\n",
    "plt.scatter(df_bkg['ADC'][:120], df_bkg['Counts'][:120], label = 'Background', color = 'red', s = 0.5)\n",
    "plt.xlabel('ADC channels')\n",
    "plt.ylabel('Counts')\n",
    "plt.legend()\n",
    "plt.grid()\n",
    "# plt.title('Cristallo BGO Sodio')"
   ]
  },
  {
   "cell_type": "markdown",
   "id": "4",
   "metadata": {},
   "source": [
    "## Primo picco"
   ]
  },
  {
   "cell_type": "code",
   "execution_count": null,
   "id": "5",
   "metadata": {},
   "outputs": [],
   "source": [
    "start_index = 30\n",
    "end_index = 56\n",
    "df_primo_picco_sodio = df.iloc[start_index:end_index]\n",
    "err_primo_picco_sodio = np.array(np.sqrt(df_primo_picco_sodio['Counts'][:]))\n",
    "#print(err_primo_picco_sodio)\n"
   ]
  },
  {
   "cell_type": "code",
   "execution_count": null,
   "id": "6",
   "metadata": {},
   "outputs": [],
   "source": [
    "pars, vals, ers, *other = LS_fit(df_primo_picco_sodio['ADC'], df_primo_picco_sodio['Counts'], err_primo_picco_sodio, gauss_pol2,\n",
    "                                  mu = 3170, sigma = 270, S = 7000, a = 1000, b  = 0 , c = 0)"
   ]
  },
  {
   "cell_type": "code",
   "execution_count": null,
   "id": "7",
   "metadata": {},
   "outputs": [],
   "source": [
    "for i in range(len(vals)):\n",
    "    print(f'{pars[i]} = {vals[i]} +/- {ers[i]}')\n",
    "\n",
    "print (conv_ADC_Energy(vals[0]))"
   ]
  },
  {
   "cell_type": "code",
   "execution_count": null,
   "id": "8",
   "metadata": {},
   "outputs": [],
   "source": [
    "risol_na_1 = 2.355 * vals[1]/vals[0]"
   ]
  },
  {
   "cell_type": "markdown",
   "id": "9",
   "metadata": {},
   "source": [
    "## Secondo picco"
   ]
  },
  {
   "cell_type": "code",
   "execution_count": null,
   "id": "10",
   "metadata": {},
   "outputs": [],
   "source": [
    "start_index = 79\n",
    "end_index = 105\n",
    "df_secondo_picco_sodio = df.iloc[start_index : end_index]\n",
    "err_secondo_picco_sodio = np.array(np.sqrt(df_secondo_picco_sodio['Counts']))\n",
    "plt.plot(df_secondo_picco_sodio['ADC'], df_secondo_picco_sodio['Counts'])\n",
    "#print(df_secondo_picco_sodio)"
   ]
  },
  {
   "cell_type": "code",
   "execution_count": null,
   "id": "11",
   "metadata": {},
   "outputs": [],
   "source": [
    "pars, vals, errs, *others = LS_fit(df_secondo_picco_sodio['ADC'], df_secondo_picco_sodio['Counts'], err_secondo_picco_sodio,\n",
    "                                    gauss_pol1, mu = 8000, sigma = 350, S = 500, a = 0, b= 0)"
   ]
  },
  {
   "cell_type": "code",
   "execution_count": null,
   "id": "12",
   "metadata": {},
   "outputs": [],
   "source": [
    "risol_na_2 = 2.355 * vals[1]/vals[0]"
   ]
  },
  {
   "cell_type": "markdown",
   "id": "13",
   "metadata": {},
   "source": [
    "# COBALTO"
   ]
  },
  {
   "cell_type": "code",
   "execution_count": null,
   "id": "14",
   "metadata": {},
   "outputs": [],
   "source": [
    "# prendo i dati\n",
    "df = pd.read_csv('Dati/Parte 2/BGO/Cobalto_55.5V_bins100.txt', delim_whitespace= True, skiprows = 65, header=None, encoding= 'ISO-8859-1', names= ['ADC', 'Counts'])\n",
    "df_bkg = pd.read_csv ('Dati/Parte 2/BGO/Bkg_55.5V.txt', delim_whitespace = True, header = None, skiprows = 65, encoding = 'ISO-8859-1', names = ['ADC', 'Counts'])\n",
    "fig, ax = plt.subplots(figsize = (20,6))\n",
    "plt.plot(df['ADC'][:90], df['Counts'][:90], label = 'Spettro con sorgente di cobalto', color = 'blue', linewidth = 0.8)\n",
    "plt.scatter(df_bkg['ADC'][:90], df_bkg['Counts'][:90], label = 'Background', color = 'red', s = 0.5)\n",
    "plt.legend()\n",
    "plt.xlabel('ADC channels')\n",
    "plt.ylabel('Counts')\n",
    "plt.grid()\n",
    "# plt.title('Cristallo BGO Cobalto')"
   ]
  },
  {
   "cell_type": "code",
   "execution_count": null,
   "id": "15",
   "metadata": {},
   "outputs": [],
   "source": [
    "filtrato = df['Counts'][0:100] - df_bkg['Counts'][0:100]\n",
    "#print(df_filtrato['Counts'][:])\n",
    "start_index = 6\n",
    "end_index = 20\n",
    "# filtrato = df.iloc[start_index:end_index]\n",
    "#df_bkg = df_bkg[start_index:end_index]\n",
    "err_filtrato = np.array(np.sqrt(filtrato[start_index:end_index]) + np.sqrt(df_bkg['Counts'][start_index:end_index]))\n"
   ]
  },
  {
   "cell_type": "code",
   "execution_count": null,
   "id": "16",
   "metadata": {},
   "outputs": [],
   "source": [
    "pars, vals, ers, *other = LS_fit(df['ADC'][start_index:end_index], filtrato[start_index:end_index], err_filtrato,\n",
    "                                  gauss_pol3, mu = 500, sigma = 250, S  = 1000, a = 0, b = 0, d = 0, c=0)"
   ]
  },
  {
   "cell_type": "code",
   "execution_count": null,
   "id": "17",
   "metadata": {},
   "outputs": [],
   "source": [
    "for i in range(len(vals)):\n",
    "    print(f'{pars[i]} = {vals[i]} +/- {ers[i]}')"
   ]
  },
  {
   "cell_type": "code",
   "execution_count": null,
   "id": "18",
   "metadata": {},
   "outputs": [],
   "source": [
    "risol_cob = 2.355 * vals[1] / vals[0]\n",
    "print ('risoluzione cobalto 122 keV = ', risol_cob, '\\n', \n",
    "       'risoluzione sodio 511 keV = ', risol_na_1, '\\n',\n",
    "       'risoluzione sodio 1275 keV = ', risol_na_2)"
   ]
  }
 ],
 "metadata": {
  "kernelspec": {
   "display_name": "Python 3",
   "language": "python",
   "name": "python3"
  },
  "language_info": {
   "codemirror_mode": {
    "name": "ipython",
    "version": 3
   },
   "file_extension": ".py",
   "mimetype": "text/x-python",
   "name": "python",
   "nbconvert_exporter": "python",
   "pygments_lexer": "ipython3",
   "version": "3.12.4"
  }
 },
 "nbformat": 4,
 "nbformat_minor": 5
}
