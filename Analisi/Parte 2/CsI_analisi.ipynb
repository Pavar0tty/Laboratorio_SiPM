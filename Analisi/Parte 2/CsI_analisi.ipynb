{
 "cells": [
  {
   "cell_type": "code",
   "execution_count": null,
   "id": "0",
   "metadata": {},
   "outputs": [],
   "source": [
    "import numpy as np\n",
    "import pandas as pd\n",
    "import matplotlib.pyplot as plt\n",
    "import math\n",
    "from scipy.stats import chi2, norm, cauchy\n",
    "from iminuit import Minuit\n",
    "from iminuit.cost import LeastSquares\n",
    "# Cambiare directory per spostarsi nella cartella principale\n",
    "import os\n",
    "while not os.getcwd().endswith('Laboratorio_SiPM'):\n",
    "    os.chdir('..')\n",
    "\n",
    "import sys\n",
    "sys.path.append('Config')\n",
    "from lablib import *"
   ]
  },
  {
   "cell_type": "markdown",
   "id": "1",
   "metadata": {},
   "source": [
    "# Definizioni"
   ]
  },
  {
   "cell_type": "markdown",
   "id": "2",
   "metadata": {},
   "source": [
    "# Vecchi dati"
   ]
  },
  {
   "cell_type": "markdown",
   "id": "3",
   "metadata": {},
   "source": [
    "## 53.5 V"
   ]
  },
  {
   "cell_type": "code",
   "execution_count": null,
   "id": "4",
   "metadata": {},
   "outputs": [],
   "source": [
    "#leggo il file dalla riga 66 in poi, escludendo il testo e il nome delle colonne\n",
    "df = pd.read_csv('Dati/Parte 2/Riprendere/Spettro CsI/Na_53.5_th-20.txt', delim_whitespace = 'true',  skiprows = 65, encoding='ISO-8859-1', header = None)\n",
    "df.columns = ['ADC', 'counts'] #ho assegnato il nome alle colonne del dataframe\n",
    "plt.plot(df['ADC'], df['counts'])"
   ]
  },
  {
   "cell_type": "code",
   "execution_count": null,
   "id": "5",
   "metadata": {},
   "outputs": [],
   "source": [
    "#seleziono dati del primo picco\n",
    "# Definisco gli indici delle righe copiate\n",
    "start_index =80  # Indice di inizio (inclusivo)\n",
    "end_index = 105   # wIndice di fine (esclusivo)\n",
    "# Copio le righe selezionate in un nuovo dataframe\n",
    "df_filtrato = df.iloc[start_index:end_index]\n",
    "x_primo_picco = df_filtrato['ADC']\n",
    "y_primo_picco = df_filtrato['counts']\n",
    "plt.plot(x_primo_picco, y_primo_picco)\n",
    "errori_counts = np.array(np.sqrt(df_filtrato['counts']))\n",
    "plt.errorbar(x_primo_picco, y_primo_picco, yerr=errori_counts, label='Data')\n",
    "#print (errori_counts)\n",
    "errori_counts1 = np.array(np.sqrt(df['counts']))"
   ]
  },
  {
   "cell_type": "code",
   "execution_count": null,
   "id": "6",
   "metadata": {},
   "outputs": [],
   "source": [
    "LS_fit(x_primo_picco, y_primo_picco, errori_counts, gauss, mu = 6153, sigma = 611, S = 1391)"
   ]
  },
  {
   "cell_type": "code",
   "execution_count": null,
   "id": "7",
   "metadata": {},
   "outputs": [],
   "source": [
    "LS_fit(df['ADC'], df['counts'], errori_counts1, gauss,mu = 6157, sigma = 640, S = 1350)\n",
    "\n"
   ]
  },
  {
   "cell_type": "markdown",
   "id": "8",
   "metadata": {},
   "source": [
    "## 54.5 V"
   ]
  },
  {
   "cell_type": "code",
   "execution_count": null,
   "id": "9",
   "metadata": {},
   "outputs": [],
   "source": [
    "#importo prima il file di dati + fondo, poi quello solo fondo e faccio la sottrazione dei due plot\n",
    "df54 = pd.read_csv('Dati/Parte 2/Riprendere/Spettro CsI/Na_54.5_th-20.txt', delim_whitespace= 'True', skiprows = 1, encoding='ISO-8859-1', header = None)\n",
    "df54.columns = ['ADC', 'counts'] #ho assegnato il nome alle colonne del dataframe\n",
    "err_counts_54 = np.array(np.sqrt(df54['counts']))\n",
    "df54_bkg = pd.read_csv('Dati/Parte 2/Riprendere/Spettro CsI/Bg_54.5_th-20.txt', delim_whitespace= 'True', skiprows = 65, encoding='ISO-8859-1', header = None)\n",
    "df54_bkg.columns = ['ADC', 'counts'] #ho assegnato il nome alle colonne del dataframe\n",
    "err_counts_54_bkg = np.array(np.sqrt(df54_bkg['counts'][:500]))\n",
    "fig, ax = plt.subplots(figsize = (30,6))\n",
    "plt.plot(df54['ADC'], df54['counts'])\n",
    "plt.errorbar(df54['ADC'], df54['counts'], yerr=err_counts_54)\n",
    "plt.plot(df54_bkg['ADC'][:500], df54_bkg['counts'][:500])\n",
    "plt.errorbar(df54_bkg['ADC'][:500], df54_bkg['counts'][:500], yerr=err_counts_54_bkg)\n",
    "plt.grid()\n"
   ]
  },
  {
   "cell_type": "code",
   "execution_count": null,
   "id": "10",
   "metadata": {},
   "outputs": [],
   "source": [
    "#taglio il vettore per il fit primo picco\n",
    "start_index = 173\n",
    "end_index = 210\n",
    "df_filtrato_54_primo_picco = df54.iloc[start_index:end_index]\n",
    "err_54_primo_picco = np.array(np.sqrt(df_filtrato_54_primo_picco['counts']))"
   ]
  },
  {
   "cell_type": "code",
   "execution_count": null,
   "id": "11",
   "metadata": {},
   "outputs": [],
   "source": [
    "pars, vals, errs, *others = LS_fit(df_filtrato_54_primo_picco['ADC'], df_filtrato_54_primo_picco['counts'], err_54_primo_picco, gauss, mu = 14000, sigma = 1000, S = 700)"
   ]
  },
  {
   "cell_type": "code",
   "execution_count": null,
   "id": "12",
   "metadata": {},
   "outputs": [],
   "source": [
    "for i in range(len(pars)):\n",
    "    print(f'{pars[i]} = {vals[i]} +/- {errs[i]}')"
   ]
  },
  {
   "cell_type": "code",
   "execution_count": null,
   "id": "13",
   "metadata": {},
   "outputs": [],
   "source": [
    "start_index = 337\n",
    "end_index = 391\n",
    "df_filtrato_54_secondo_picco = df54.iloc[start_index:end_index]\n",
    "err_54_secondo_picco = np.array(np.sqrt(df_filtrato_54_secondo_picco['counts']))"
   ]
  },
  {
   "cell_type": "code",
   "execution_count": null,
   "id": "14",
   "metadata": {},
   "outputs": [],
   "source": [
    "pars, vals, ers, *other = LS_fit(df_filtrato_54_secondo_picco['ADC'], df_filtrato_54_secondo_picco['counts'], err_54_secondo_picco, gauss, mu = 31000, sigma = 1400, S = 10)"
   ]
  },
  {
   "cell_type": "code",
   "execution_count": null,
   "id": "15",
   "metadata": {},
   "outputs": [],
   "source": [
    "#provo a sottrarre i due daataframe e vedo cosa ne esce\n",
    "y_54_no_bkg = []\n",
    "err_y_54 = []\n",
    "for i in range (500):\n",
    "    y_54_no_bkg.append( df54['counts'][i] - df54_bkg['counts'][i])\n",
    "    err_y_54.append(math.sqrt(err_counts_54[i]**2 + err_counts_54_bkg[i]**2))\n",
    "fig, ax = plt.subplots(figsize = (30,6))\n",
    "plt.plot(df54['ADC'], y_54_no_bkg)\n",
    "plt.errorbar(df54['ADC'], y_54_no_bkg, yerr=err_y_54, label='Data')\n"
   ]
  },
  {
   "cell_type": "markdown",
   "id": "16",
   "metadata": {},
   "source": [
    "# Nuovi dati"
   ]
  },
  {
   "cell_type": "markdown",
   "id": "17",
   "metadata": {},
   "source": [
    "## Sodio"
   ]
  },
  {
   "cell_type": "code",
   "execution_count": null,
   "id": "18",
   "metadata": {},
   "outputs": [],
   "source": [
    "df55 = pd.read_csv('Dati/Parte 2/CsI/Sodio_55.5.txt', delim_whitespace= 'True', skiprows = 65, encoding='ISO-8859-1', header = None)\n",
    "df55.columns = ['ADC', 'counts'] #ho assegnato il nome alle colonne del dataframe\n",
    "err_counts_55 = np.array(np.sqrt(df55['counts']))\n",
    "df55_bkg = pd.read_csv('Dati/Parte 2/CsI/Bkg_54.5V.txt', delim_whitespace= 'True', skiprows = 65, encoding='ISO-8859-1', header = None)   \n",
    "df55_bkg.columns = ['ADC', 'counts'] #ho assegnato il nome alle colonne del dataframe\n",
    "# Allunga df55_bkg per avere la stessa lunghezza di df55\n",
    "diff = len(df55) - len(df55_bkg)\n",
    "if diff > 0:\n",
    "    last_adc = df55_bkg['ADC'].iloc[-1]\n",
    "    adc_step = df55_bkg['ADC'].diff().mode()[0] if len(df55_bkg['ADC']) > 1 else 1\n",
    "    new_adc = [last_adc + adc_step * (i + 1) for i in range(diff)]\n",
    "    df55_bkg = pd.concat([\n",
    "        df55_bkg,\n",
    "        pd.DataFrame({'ADC': new_adc, 'counts': [0]*diff})\n",
    "    ], ignore_index=True)\n",
    "err_counts_55_bkg = np.array(np.sqrt(df55_bkg['counts']))\n",
    "fig, ax = plt.subplots(figsize = (15,6))\n",
    "plt.plot(df55['ADC'], df55['counts'], linewidth = 2, label = 'spettro con sorgente di sodio')\n",
    "plt.xlabel('ADC channels')\n",
    "plt.ylabel('Counts')\n",
    "# plt.errorbar(df55['ADC'], df55['counts'], yerr=err_counts_55)\n",
    "plt.scatter(df55_bkg['ADC'], df55_bkg['counts'], s = 3.5, label = 'Background', color = 'red')\n",
    "plt.legend(fontsize = 23)\n",
    "plt.grid()\n",
    "ax.set_xlabel('ADC channels', fontsize = 23)\n",
    "ax.set_ylabel('Counts', fontsize = 23)\n",
    "# plt.errorbar(df55_bkg['ADC'], df55_bkg['counts'], yerr=err_counts_55_bkg)"
   ]
  },
  {
   "cell_type": "code",
   "execution_count": null,
   "id": "19",
   "metadata": {},
   "outputs": [],
   "source": [
    "start_index = 250\n",
    "end_index = 340\n",
    "df_filtrato = df55.iloc[start_index:end_index]\n",
    "err_df55_primo_picco = np.array(np.sqrt(df_filtrato['counts']))"
   ]
  },
  {
   "cell_type": "code",
   "execution_count": null,
   "id": "20",
   "metadata": {},
   "outputs": [],
   "source": [
    "pars, vals, errs, *others = LS_fit(df_filtrato['ADC'], df_filtrato['counts'], err_df55_primo_picco, gauss, mu = 14000, sigma = 1000, S = 700)"
   ]
  },
  {
   "cell_type": "code",
   "execution_count": null,
   "id": "21",
   "metadata": {},
   "outputs": [],
   "source": [
    "for i in range(len(pars)):\n",
    "    print(f'{pars[i]} = {vals[i]} +/- {errs[i]}')"
   ]
  },
  {
   "cell_type": "code",
   "execution_count": null,
   "id": "22",
   "metadata": {},
   "outputs": [],
   "source": [
    "risol_na = 2.355 * vals[1] / vals[0]"
   ]
  },
  {
   "cell_type": "markdown",
   "id": "23",
   "metadata": {},
   "source": [
    "## Cobalto"
   ]
  },
  {
   "cell_type": "code",
   "execution_count": null,
   "id": "24",
   "metadata": {},
   "outputs": [],
   "source": [
    "Co = read_corretto(path = 'Dati/Parte 2/CsI/Cobalto_55.5V.txt', titles= ['ADC', 'Counts'])\n",
    "Co_bkg = read_corretto(path = 'Dati/Parte 2/CsI/Bkg_54.5V.txt', titles= ['ADC', 'Counts'])\n",
    "Fig, axes = plt.subplots( figsize = (15,6))\n",
    "axes.plot(Co['ADC'], Co['Counts'], linewidth = 0.8, label = 'spettro con sorgente di cobalto')\n",
    "axes.set_xlabel('ADC channels')\n",
    "axes.set_ylabel('Counts')\n",
    "axes.scatter(df55_bkg['ADC'][39:240], df55_bkg['counts'][39:240], s = 0.5, label = 'Background', color = 'red')\n",
    "axes.legend()\n",
    "axes.grid()\n",
    "# axes[0].scatter(Co_bkg['ADC'], Co_bkg['Counts'], color = 'red', s = 0.5)"
   ]
  },
  {
   "cell_type": "code",
   "execution_count": null,
   "id": "25",
   "metadata": {},
   "outputs": [],
   "source": [
    "start_index = 110 - 65\n",
    "end_index = 160 - 65\n",
    "pars, vals, errs, *others = LS_fit(Co['ADC'][start_index:end_index], Co['Counts'][start_index:end_index], np.sqrt(Co['Counts'][start_index:end_index]), gauss_pol3, mu = 5000, sigma = 1000, S = 500, b = 0, c = 0, d = 0, a = 0)"
   ]
  },
  {
   "cell_type": "code",
   "execution_count": null,
   "id": "26",
   "metadata": {},
   "outputs": [],
   "source": [
    "risol_Co = 2.355 *vals[1]/vals[0]"
   ]
  },
  {
   "cell_type": "markdown",
   "id": "27",
   "metadata": {},
   "source": [
    "## Risoluzione"
   ]
  },
  {
   "cell_type": "code",
   "execution_count": null,
   "id": "28",
   "metadata": {},
   "outputs": [],
   "source": [
    "print(f'Risoluzione Cobalto 122 keV: {risol_Co:.3e}','\\n',\n",
    "       f'Risoluzione Sodio 511 keV: {risol_na:.3e}')"
   ]
  }
 ],
 "metadata": {
  "kernelspec": {
   "display_name": "Python 3",
   "language": "python",
   "name": "python3"
  },
  "language_info": {
   "codemirror_mode": {
    "name": "ipython",
    "version": 3
   },
   "file_extension": ".py",
   "mimetype": "text/x-python",
   "name": "python",
   "nbconvert_exporter": "python",
   "pygments_lexer": "ipython3",
   "version": "3.12.4"
  }
 },
 "nbformat": 4,
 "nbformat_minor": 5
}
